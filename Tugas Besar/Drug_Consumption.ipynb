{
  "nbformat": 4,
  "nbformat_minor": 0,
  "metadata": {
    "colab": {
      "name": "Drug Consumption.ipynb",
      "provenance": [],
      "collapsed_sections": [],
      "machine_shape": "hm"
    },
    "kernelspec": {
      "name": "python3",
      "display_name": "Python 3"
    },
    "accelerator": "GPU"
  },
  "cells": [
    {
      "cell_type": "code",
      "metadata": {
        "id": "yQQJeIrE48R7",
        "colab_type": "code",
        "outputId": "69d5194a-6ca2-4c5f-ce6d-9a0da594786b",
        "colab": {
          "base_uri": "https://localhost:8080/",
          "height": 286
        }
      },
      "source": [
        "pip install pomegranate"
      ],
      "execution_count": 0,
      "outputs": [
        {
          "output_type": "stream",
          "text": [
            "Collecting pomegranate\n",
            "\u001b[?25l  Downloading https://files.pythonhosted.org/packages/aa/88/d1040259ed7c30f1f653052e9d58bf8db0a8e0903e31a6d24a6ccc1b02b0/pomegranate-0.12.2.tar.gz (3.3MB)\n",
            "\u001b[K     |████████████████████████████████| 3.3MB 4.8MB/s \n",
            "\u001b[?25hRequirement already satisfied: numpy>=1.8.0 in /usr/local/lib/python3.6/dist-packages (from pomegranate) (1.18.3)\n",
            "Requirement already satisfied: joblib>=0.9.0b4 in /usr/local/lib/python3.6/dist-packages (from pomegranate) (0.14.1)\n",
            "Requirement already satisfied: networkx>=2.0 in /usr/local/lib/python3.6/dist-packages (from pomegranate) (2.4)\n",
            "Requirement already satisfied: scipy>=0.17.0 in /usr/local/lib/python3.6/dist-packages (from pomegranate) (1.4.1)\n",
            "Requirement already satisfied: pyyaml in /usr/local/lib/python3.6/dist-packages (from pomegranate) (3.13)\n",
            "Requirement already satisfied: decorator>=4.3.0 in /usr/local/lib/python3.6/dist-packages (from networkx>=2.0->pomegranate) (4.4.2)\n",
            "Building wheels for collected packages: pomegranate\n",
            "  Building wheel for pomegranate (setup.py) ... \u001b[?25l\u001b[?25hdone\n",
            "  Created wheel for pomegranate: filename=pomegranate-0.12.2-cp36-cp36m-linux_x86_64.whl size=10965195 sha256=5a9eda34fe81e1b85b11c1682c02f28a940f11574bffe3a20e62ca963d905851\n",
            "  Stored in directory: /root/.cache/pip/wheels/51/14/41/7285a60a08951abde03ce60f47a8644dd96d8e22b373bbbcc8\n",
            "Successfully built pomegranate\n",
            "Installing collected packages: pomegranate\n",
            "Successfully installed pomegranate-0.12.2\n"
          ],
          "name": "stdout"
        }
      ]
    },
    {
      "cell_type": "code",
      "metadata": {
        "id": "RPmXaXTYjkiC",
        "colab_type": "code",
        "outputId": "0ec87b74-4b47-4661-f13a-d9de8c543f10",
        "colab": {
          "base_uri": "https://localhost:8080/",
          "height": 168
        }
      },
      "source": [
        "pip install ipython-autotime"
      ],
      "execution_count": 0,
      "outputs": [
        {
          "output_type": "stream",
          "text": [
            "Collecting ipython-autotime\n",
            "  Downloading https://files.pythonhosted.org/packages/e6/f9/0626bbdb322e3a078d968e87e3b01341e7890544de891d0cb613641220e6/ipython-autotime-0.1.tar.bz2\n",
            "Building wheels for collected packages: ipython-autotime\n",
            "  Building wheel for ipython-autotime (setup.py) ... \u001b[?25l\u001b[?25hdone\n",
            "  Created wheel for ipython-autotime: filename=ipython_autotime-0.1-cp36-none-any.whl size=1832 sha256=012ddfadc122d30cf1fcd3551e9991a08182b1b1f198efad03958edd163fa64b\n",
            "  Stored in directory: /root/.cache/pip/wheels/d2/df/81/2db1e54bc91002cec40334629bc39cfa86dff540b304ebcd6e\n",
            "Successfully built ipython-autotime\n",
            "Installing collected packages: ipython-autotime\n",
            "Successfully installed ipython-autotime-0.1\n"
          ],
          "name": "stdout"
        }
      ]
    },
    {
      "cell_type": "code",
      "metadata": {
        "id": "mGLZKubcjp8Y",
        "colab_type": "code",
        "colab": {}
      },
      "source": [
        "%load_ext autotime"
      ],
      "execution_count": 0,
      "outputs": []
    },
    {
      "cell_type": "code",
      "metadata": {
        "id": "BPBwujK3494P",
        "colab_type": "code",
        "outputId": "a20148f1-4787-4df2-8908-511ad98668ad",
        "colab": {
          "base_uri": "https://localhost:8080/",
          "height": 34
        }
      },
      "source": [
        "import time\n",
        "import numpy as np\n",
        "import pandas as pd\n",
        "from pomegranate import *\n",
        "import matplotlib.pyplot as plt\n",
        "import random"
      ],
      "execution_count": 0,
      "outputs": [
        {
          "output_type": "stream",
          "text": [
            "time: 4.05 s\n"
          ],
          "name": "stdout"
        }
      ]
    },
    {
      "cell_type": "code",
      "metadata": {
        "id": "sQu8m8w_5ADi",
        "colab_type": "code",
        "outputId": "35decd61-8dcc-465e-c643-ccdeea7a93c0",
        "colab": {
          "base_uri": "https://localhost:8080/",
          "height": 50
        }
      },
      "source": [
        "from google.colab import drive\n",
        "drive.mount('/content/drive')"
      ],
      "execution_count": 0,
      "outputs": [
        {
          "output_type": "stream",
          "text": [
            "Drive already mounted at /content/drive; to attempt to forcibly remount, call drive.mount(\"/content/drive\", force_remount=True).\n",
            "time: 1.91 ms\n"
          ],
          "name": "stdout"
        }
      ]
    },
    {
      "cell_type": "code",
      "metadata": {
        "id": "4HLqmoM85I0m",
        "colab_type": "code",
        "outputId": "b26ab3e4-4bac-41d2-e664-2c55d5c2210f",
        "colab": {
          "base_uri": "https://localhost:8080/",
          "height": 438
        }
      },
      "source": [
        "dataset = pd.read_csv(\"/content/drive/My Drive/DAMIN/drug_consumption - Copy.csv\")\n",
        "dataset"
      ],
      "execution_count": 0,
      "outputs": [
        {
          "output_type": "execute_result",
          "data": {
            "text/html": [
              "<div>\n",
              "<style scoped>\n",
              "    .dataframe tbody tr th:only-of-type {\n",
              "        vertical-align: middle;\n",
              "    }\n",
              "\n",
              "    .dataframe tbody tr th {\n",
              "        vertical-align: top;\n",
              "    }\n",
              "\n",
              "    .dataframe thead th {\n",
              "        text-align: right;\n",
              "    }\n",
              "</style>\n",
              "<table border=\"1\" class=\"dataframe\">\n",
              "  <thead>\n",
              "    <tr style=\"text-align: right;\">\n",
              "      <th></th>\n",
              "      <th>ID</th>\n",
              "      <th>Age</th>\n",
              "      <th>Gender</th>\n",
              "      <th>Education</th>\n",
              "      <th>Country</th>\n",
              "      <th>Ethnicity</th>\n",
              "      <th>Nscore</th>\n",
              "      <th>Escore</th>\n",
              "      <th>Oscore</th>\n",
              "      <th>Ascore</th>\n",
              "      <th>Cscore</th>\n",
              "      <th>Impulsive</th>\n",
              "      <th>SS</th>\n",
              "      <th>Alcohol</th>\n",
              "      <th>Amphet</th>\n",
              "      <th>Amyl</th>\n",
              "      <th>Benzos</th>\n",
              "      <th>Caff</th>\n",
              "      <th>Cannabis</th>\n",
              "      <th>Choc</th>\n",
              "      <th>Coke</th>\n",
              "      <th>Crack</th>\n",
              "      <th>Ecstasy</th>\n",
              "      <th>Heroin</th>\n",
              "      <th>Ketamine</th>\n",
              "      <th>Legalh</th>\n",
              "      <th>LSD</th>\n",
              "      <th>Meth</th>\n",
              "      <th>Mushrooms</th>\n",
              "      <th>Nicotine</th>\n",
              "      <th>Semer</th>\n",
              "      <th>VSA</th>\n",
              "    </tr>\n",
              "  </thead>\n",
              "  <tbody>\n",
              "    <tr>\n",
              "      <th>0</th>\n",
              "      <td>1</td>\n",
              "      <td>0.49788</td>\n",
              "      <td>0.48246</td>\n",
              "      <td>-0.05921</td>\n",
              "      <td>0.96082</td>\n",
              "      <td>0.12600</td>\n",
              "      <td>0.31287</td>\n",
              "      <td>-0.57545</td>\n",
              "      <td>-0.58331</td>\n",
              "      <td>-0.91699</td>\n",
              "      <td>-0.00665</td>\n",
              "      <td>-0.21712</td>\n",
              "      <td>-1.18084</td>\n",
              "      <td>CL5</td>\n",
              "      <td>CL2</td>\n",
              "      <td>CL0</td>\n",
              "      <td>CL2</td>\n",
              "      <td>CL6</td>\n",
              "      <td>CL0</td>\n",
              "      <td>CL5</td>\n",
              "      <td>CL0</td>\n",
              "      <td>CL0</td>\n",
              "      <td>CL0</td>\n",
              "      <td>CL0</td>\n",
              "      <td>CL0</td>\n",
              "      <td>CL0</td>\n",
              "      <td>CL0</td>\n",
              "      <td>CL0</td>\n",
              "      <td>CL0</td>\n",
              "      <td>CL2</td>\n",
              "      <td>CL0</td>\n",
              "      <td>CL0</td>\n",
              "    </tr>\n",
              "    <tr>\n",
              "      <th>1</th>\n",
              "      <td>2</td>\n",
              "      <td>-0.07854</td>\n",
              "      <td>-0.48246</td>\n",
              "      <td>1.98437</td>\n",
              "      <td>0.96082</td>\n",
              "      <td>-0.31685</td>\n",
              "      <td>-0.67825</td>\n",
              "      <td>1.93886</td>\n",
              "      <td>1.43533</td>\n",
              "      <td>0.76096</td>\n",
              "      <td>-0.14277</td>\n",
              "      <td>-0.71126</td>\n",
              "      <td>-0.21575</td>\n",
              "      <td>CL5</td>\n",
              "      <td>CL2</td>\n",
              "      <td>CL2</td>\n",
              "      <td>CL0</td>\n",
              "      <td>CL6</td>\n",
              "      <td>CL4</td>\n",
              "      <td>CL6</td>\n",
              "      <td>CL3</td>\n",
              "      <td>CL0</td>\n",
              "      <td>CL4</td>\n",
              "      <td>CL0</td>\n",
              "      <td>CL2</td>\n",
              "      <td>CL0</td>\n",
              "      <td>CL2</td>\n",
              "      <td>CL3</td>\n",
              "      <td>CL0</td>\n",
              "      <td>CL4</td>\n",
              "      <td>CL0</td>\n",
              "      <td>CL0</td>\n",
              "    </tr>\n",
              "    <tr>\n",
              "      <th>2</th>\n",
              "      <td>3</td>\n",
              "      <td>0.49788</td>\n",
              "      <td>-0.48246</td>\n",
              "      <td>-0.05921</td>\n",
              "      <td>0.96082</td>\n",
              "      <td>-0.31685</td>\n",
              "      <td>-0.46725</td>\n",
              "      <td>0.80523</td>\n",
              "      <td>-0.84732</td>\n",
              "      <td>-1.62090</td>\n",
              "      <td>-1.01450</td>\n",
              "      <td>-1.37983</td>\n",
              "      <td>0.40148</td>\n",
              "      <td>CL6</td>\n",
              "      <td>CL0</td>\n",
              "      <td>CL0</td>\n",
              "      <td>CL0</td>\n",
              "      <td>CL6</td>\n",
              "      <td>CL3</td>\n",
              "      <td>CL4</td>\n",
              "      <td>CL0</td>\n",
              "      <td>CL0</td>\n",
              "      <td>CL0</td>\n",
              "      <td>CL0</td>\n",
              "      <td>CL0</td>\n",
              "      <td>CL0</td>\n",
              "      <td>CL0</td>\n",
              "      <td>CL0</td>\n",
              "      <td>CL1</td>\n",
              "      <td>CL0</td>\n",
              "      <td>CL0</td>\n",
              "      <td>CL0</td>\n",
              "    </tr>\n",
              "    <tr>\n",
              "      <th>3</th>\n",
              "      <td>4</td>\n",
              "      <td>-0.95197</td>\n",
              "      <td>0.48246</td>\n",
              "      <td>1.16365</td>\n",
              "      <td>0.96082</td>\n",
              "      <td>-0.31685</td>\n",
              "      <td>-0.14882</td>\n",
              "      <td>-0.80615</td>\n",
              "      <td>-0.01928</td>\n",
              "      <td>0.59042</td>\n",
              "      <td>0.58489</td>\n",
              "      <td>-1.37983</td>\n",
              "      <td>-1.18084</td>\n",
              "      <td>CL4</td>\n",
              "      <td>CL0</td>\n",
              "      <td>CL0</td>\n",
              "      <td>CL3</td>\n",
              "      <td>CL5</td>\n",
              "      <td>CL2</td>\n",
              "      <td>CL4</td>\n",
              "      <td>CL2</td>\n",
              "      <td>CL0</td>\n",
              "      <td>CL0</td>\n",
              "      <td>CL0</td>\n",
              "      <td>CL2</td>\n",
              "      <td>CL0</td>\n",
              "      <td>CL0</td>\n",
              "      <td>CL0</td>\n",
              "      <td>CL0</td>\n",
              "      <td>CL2</td>\n",
              "      <td>CL0</td>\n",
              "      <td>CL0</td>\n",
              "    </tr>\n",
              "    <tr>\n",
              "      <th>4</th>\n",
              "      <td>5</td>\n",
              "      <td>0.49788</td>\n",
              "      <td>0.48246</td>\n",
              "      <td>1.98437</td>\n",
              "      <td>0.96082</td>\n",
              "      <td>-0.31685</td>\n",
              "      <td>0.73545</td>\n",
              "      <td>-1.63340</td>\n",
              "      <td>-0.45174</td>\n",
              "      <td>-0.30172</td>\n",
              "      <td>1.30612</td>\n",
              "      <td>-0.21712</td>\n",
              "      <td>-0.21575</td>\n",
              "      <td>CL4</td>\n",
              "      <td>CL1</td>\n",
              "      <td>CL1</td>\n",
              "      <td>CL0</td>\n",
              "      <td>CL6</td>\n",
              "      <td>CL3</td>\n",
              "      <td>CL6</td>\n",
              "      <td>CL0</td>\n",
              "      <td>CL0</td>\n",
              "      <td>CL1</td>\n",
              "      <td>CL0</td>\n",
              "      <td>CL0</td>\n",
              "      <td>CL1</td>\n",
              "      <td>CL0</td>\n",
              "      <td>CL0</td>\n",
              "      <td>CL2</td>\n",
              "      <td>CL2</td>\n",
              "      <td>CL0</td>\n",
              "      <td>CL0</td>\n",
              "    </tr>\n",
              "    <tr>\n",
              "      <th>...</th>\n",
              "      <td>...</td>\n",
              "      <td>...</td>\n",
              "      <td>...</td>\n",
              "      <td>...</td>\n",
              "      <td>...</td>\n",
              "      <td>...</td>\n",
              "      <td>...</td>\n",
              "      <td>...</td>\n",
              "      <td>...</td>\n",
              "      <td>...</td>\n",
              "      <td>...</td>\n",
              "      <td>...</td>\n",
              "      <td>...</td>\n",
              "      <td>...</td>\n",
              "      <td>...</td>\n",
              "      <td>...</td>\n",
              "      <td>...</td>\n",
              "      <td>...</td>\n",
              "      <td>...</td>\n",
              "      <td>...</td>\n",
              "      <td>...</td>\n",
              "      <td>...</td>\n",
              "      <td>...</td>\n",
              "      <td>...</td>\n",
              "      <td>...</td>\n",
              "      <td>...</td>\n",
              "      <td>...</td>\n",
              "      <td>...</td>\n",
              "      <td>...</td>\n",
              "      <td>...</td>\n",
              "      <td>...</td>\n",
              "      <td>...</td>\n",
              "    </tr>\n",
              "    <tr>\n",
              "      <th>1880</th>\n",
              "      <td>1884</td>\n",
              "      <td>-0.95197</td>\n",
              "      <td>0.48246</td>\n",
              "      <td>-0.61113</td>\n",
              "      <td>-0.57009</td>\n",
              "      <td>-0.31685</td>\n",
              "      <td>-1.19430</td>\n",
              "      <td>1.74091</td>\n",
              "      <td>1.88511</td>\n",
              "      <td>0.76096</td>\n",
              "      <td>-1.13788</td>\n",
              "      <td>0.88113</td>\n",
              "      <td>1.92173</td>\n",
              "      <td>CL5</td>\n",
              "      <td>CL0</td>\n",
              "      <td>CL0</td>\n",
              "      <td>CL0</td>\n",
              "      <td>CL4</td>\n",
              "      <td>CL5</td>\n",
              "      <td>CL4</td>\n",
              "      <td>CL0</td>\n",
              "      <td>CL0</td>\n",
              "      <td>CL0</td>\n",
              "      <td>CL0</td>\n",
              "      <td>CL0</td>\n",
              "      <td>CL3</td>\n",
              "      <td>CL3</td>\n",
              "      <td>CL0</td>\n",
              "      <td>CL0</td>\n",
              "      <td>CL0</td>\n",
              "      <td>CL0</td>\n",
              "      <td>CL5</td>\n",
              "    </tr>\n",
              "    <tr>\n",
              "      <th>1881</th>\n",
              "      <td>1885</td>\n",
              "      <td>-0.95197</td>\n",
              "      <td>-0.48246</td>\n",
              "      <td>-0.61113</td>\n",
              "      <td>-0.57009</td>\n",
              "      <td>-0.31685</td>\n",
              "      <td>-0.24649</td>\n",
              "      <td>1.74091</td>\n",
              "      <td>0.58331</td>\n",
              "      <td>0.76096</td>\n",
              "      <td>-1.51840</td>\n",
              "      <td>0.88113</td>\n",
              "      <td>0.76540</td>\n",
              "      <td>CL5</td>\n",
              "      <td>CL0</td>\n",
              "      <td>CL0</td>\n",
              "      <td>CL0</td>\n",
              "      <td>CL5</td>\n",
              "      <td>CL3</td>\n",
              "      <td>CL4</td>\n",
              "      <td>CL0</td>\n",
              "      <td>CL0</td>\n",
              "      <td>CL2</td>\n",
              "      <td>CL0</td>\n",
              "      <td>CL0</td>\n",
              "      <td>CL3</td>\n",
              "      <td>CL5</td>\n",
              "      <td>CL4</td>\n",
              "      <td>CL4</td>\n",
              "      <td>CL5</td>\n",
              "      <td>CL0</td>\n",
              "      <td>CL0</td>\n",
              "    </tr>\n",
              "    <tr>\n",
              "      <th>1882</th>\n",
              "      <td>1886</td>\n",
              "      <td>-0.07854</td>\n",
              "      <td>0.48246</td>\n",
              "      <td>0.45468</td>\n",
              "      <td>-0.57009</td>\n",
              "      <td>-0.31685</td>\n",
              "      <td>1.13281</td>\n",
              "      <td>-1.37639</td>\n",
              "      <td>-1.27553</td>\n",
              "      <td>-1.77200</td>\n",
              "      <td>-1.38502</td>\n",
              "      <td>0.52975</td>\n",
              "      <td>-0.52593</td>\n",
              "      <td>CL4</td>\n",
              "      <td>CL6</td>\n",
              "      <td>CL5</td>\n",
              "      <td>CL5</td>\n",
              "      <td>CL6</td>\n",
              "      <td>CL6</td>\n",
              "      <td>CL6</td>\n",
              "      <td>CL4</td>\n",
              "      <td>CL0</td>\n",
              "      <td>CL4</td>\n",
              "      <td>CL0</td>\n",
              "      <td>CL2</td>\n",
              "      <td>CL0</td>\n",
              "      <td>CL2</td>\n",
              "      <td>CL0</td>\n",
              "      <td>CL2</td>\n",
              "      <td>CL6</td>\n",
              "      <td>CL0</td>\n",
              "      <td>CL0</td>\n",
              "    </tr>\n",
              "    <tr>\n",
              "      <th>1883</th>\n",
              "      <td>1887</td>\n",
              "      <td>-0.95197</td>\n",
              "      <td>0.48246</td>\n",
              "      <td>-0.61113</td>\n",
              "      <td>-0.57009</td>\n",
              "      <td>-0.31685</td>\n",
              "      <td>0.91093</td>\n",
              "      <td>-1.92173</td>\n",
              "      <td>0.29338</td>\n",
              "      <td>-1.62090</td>\n",
              "      <td>-2.57309</td>\n",
              "      <td>1.29221</td>\n",
              "      <td>1.22470</td>\n",
              "      <td>CL5</td>\n",
              "      <td>CL0</td>\n",
              "      <td>CL0</td>\n",
              "      <td>CL0</td>\n",
              "      <td>CL6</td>\n",
              "      <td>CL6</td>\n",
              "      <td>CL5</td>\n",
              "      <td>CL0</td>\n",
              "      <td>CL0</td>\n",
              "      <td>CL3</td>\n",
              "      <td>CL0</td>\n",
              "      <td>CL0</td>\n",
              "      <td>CL3</td>\n",
              "      <td>CL3</td>\n",
              "      <td>CL0</td>\n",
              "      <td>CL3</td>\n",
              "      <td>CL4</td>\n",
              "      <td>CL0</td>\n",
              "      <td>CL0</td>\n",
              "    </tr>\n",
              "    <tr>\n",
              "      <th>1884</th>\n",
              "      <td>1888</td>\n",
              "      <td>-0.95197</td>\n",
              "      <td>-0.48246</td>\n",
              "      <td>-0.61113</td>\n",
              "      <td>0.21128</td>\n",
              "      <td>-0.31685</td>\n",
              "      <td>-0.46725</td>\n",
              "      <td>2.12700</td>\n",
              "      <td>1.65653</td>\n",
              "      <td>1.11406</td>\n",
              "      <td>0.41594</td>\n",
              "      <td>0.88113</td>\n",
              "      <td>1.22470</td>\n",
              "      <td>CL4</td>\n",
              "      <td>CL3</td>\n",
              "      <td>CL0</td>\n",
              "      <td>CL3</td>\n",
              "      <td>CL6</td>\n",
              "      <td>CL3</td>\n",
              "      <td>CL6</td>\n",
              "      <td>CL3</td>\n",
              "      <td>CL0</td>\n",
              "      <td>CL3</td>\n",
              "      <td>CL0</td>\n",
              "      <td>CL0</td>\n",
              "      <td>CL3</td>\n",
              "      <td>CL3</td>\n",
              "      <td>CL0</td>\n",
              "      <td>CL3</td>\n",
              "      <td>CL6</td>\n",
              "      <td>CL0</td>\n",
              "      <td>CL2</td>\n",
              "    </tr>\n",
              "  </tbody>\n",
              "</table>\n",
              "<p>1885 rows × 32 columns</p>\n",
              "</div>"
            ],
            "text/plain": [
              "        ID      Age   Gender  Education  ...  Mushrooms  Nicotine  Semer  VSA\n",
              "0        1  0.49788  0.48246   -0.05921  ...        CL0       CL2    CL0  CL0\n",
              "1        2 -0.07854 -0.48246    1.98437  ...        CL0       CL4    CL0  CL0\n",
              "2        3  0.49788 -0.48246   -0.05921  ...        CL1       CL0    CL0  CL0\n",
              "3        4 -0.95197  0.48246    1.16365  ...        CL0       CL2    CL0  CL0\n",
              "4        5  0.49788  0.48246    1.98437  ...        CL2       CL2    CL0  CL0\n",
              "...    ...      ...      ...        ...  ...        ...       ...    ...  ...\n",
              "1880  1884 -0.95197  0.48246   -0.61113  ...        CL0       CL0    CL0  CL5\n",
              "1881  1885 -0.95197 -0.48246   -0.61113  ...        CL4       CL5    CL0  CL0\n",
              "1882  1886 -0.07854  0.48246    0.45468  ...        CL2       CL6    CL0  CL0\n",
              "1883  1887 -0.95197  0.48246   -0.61113  ...        CL3       CL4    CL0  CL0\n",
              "1884  1888 -0.95197 -0.48246   -0.61113  ...        CL3       CL6    CL0  CL2\n",
              "\n",
              "[1885 rows x 32 columns]"
            ]
          },
          "metadata": {
            "tags": []
          },
          "execution_count": 29
        },
        {
          "output_type": "stream",
          "text": [
            "time: 109 ms\n"
          ],
          "name": "stdout"
        }
      ]
    },
    {
      "cell_type": "code",
      "metadata": {
        "id": "6Rx-rNpk5zL-",
        "colab_type": "code",
        "outputId": "01e40edb-4ddf-4eeb-fcb5-97ad22c44d30",
        "colab": {
          "base_uri": "https://localhost:8080/",
          "height": 418
        }
      },
      "source": [
        "#Hanya gunakan non categorical values\n",
        "df = dataset[['Age', 'Nscore', 'Escore', 'Oscore', 'Ascore', 'Cscore', 'Impulsive', 'SS']]\n",
        "df"
      ],
      "execution_count": 0,
      "outputs": [
        {
          "output_type": "execute_result",
          "data": {
            "text/html": [
              "<div>\n",
              "<style scoped>\n",
              "    .dataframe tbody tr th:only-of-type {\n",
              "        vertical-align: middle;\n",
              "    }\n",
              "\n",
              "    .dataframe tbody tr th {\n",
              "        vertical-align: top;\n",
              "    }\n",
              "\n",
              "    .dataframe thead th {\n",
              "        text-align: right;\n",
              "    }\n",
              "</style>\n",
              "<table border=\"1\" class=\"dataframe\">\n",
              "  <thead>\n",
              "    <tr style=\"text-align: right;\">\n",
              "      <th></th>\n",
              "      <th>Age</th>\n",
              "      <th>Nscore</th>\n",
              "      <th>Escore</th>\n",
              "      <th>Oscore</th>\n",
              "      <th>Ascore</th>\n",
              "      <th>Cscore</th>\n",
              "      <th>Impulsive</th>\n",
              "      <th>SS</th>\n",
              "    </tr>\n",
              "  </thead>\n",
              "  <tbody>\n",
              "    <tr>\n",
              "      <th>0</th>\n",
              "      <td>0.49788</td>\n",
              "      <td>0.31287</td>\n",
              "      <td>-0.57545</td>\n",
              "      <td>-0.58331</td>\n",
              "      <td>-0.91699</td>\n",
              "      <td>-0.00665</td>\n",
              "      <td>-0.21712</td>\n",
              "      <td>-1.18084</td>\n",
              "    </tr>\n",
              "    <tr>\n",
              "      <th>1</th>\n",
              "      <td>-0.07854</td>\n",
              "      <td>-0.67825</td>\n",
              "      <td>1.93886</td>\n",
              "      <td>1.43533</td>\n",
              "      <td>0.76096</td>\n",
              "      <td>-0.14277</td>\n",
              "      <td>-0.71126</td>\n",
              "      <td>-0.21575</td>\n",
              "    </tr>\n",
              "    <tr>\n",
              "      <th>2</th>\n",
              "      <td>0.49788</td>\n",
              "      <td>-0.46725</td>\n",
              "      <td>0.80523</td>\n",
              "      <td>-0.84732</td>\n",
              "      <td>-1.62090</td>\n",
              "      <td>-1.01450</td>\n",
              "      <td>-1.37983</td>\n",
              "      <td>0.40148</td>\n",
              "    </tr>\n",
              "    <tr>\n",
              "      <th>3</th>\n",
              "      <td>-0.95197</td>\n",
              "      <td>-0.14882</td>\n",
              "      <td>-0.80615</td>\n",
              "      <td>-0.01928</td>\n",
              "      <td>0.59042</td>\n",
              "      <td>0.58489</td>\n",
              "      <td>-1.37983</td>\n",
              "      <td>-1.18084</td>\n",
              "    </tr>\n",
              "    <tr>\n",
              "      <th>4</th>\n",
              "      <td>0.49788</td>\n",
              "      <td>0.73545</td>\n",
              "      <td>-1.63340</td>\n",
              "      <td>-0.45174</td>\n",
              "      <td>-0.30172</td>\n",
              "      <td>1.30612</td>\n",
              "      <td>-0.21712</td>\n",
              "      <td>-0.21575</td>\n",
              "    </tr>\n",
              "    <tr>\n",
              "      <th>...</th>\n",
              "      <td>...</td>\n",
              "      <td>...</td>\n",
              "      <td>...</td>\n",
              "      <td>...</td>\n",
              "      <td>...</td>\n",
              "      <td>...</td>\n",
              "      <td>...</td>\n",
              "      <td>...</td>\n",
              "    </tr>\n",
              "    <tr>\n",
              "      <th>1880</th>\n",
              "      <td>-0.95197</td>\n",
              "      <td>-1.19430</td>\n",
              "      <td>1.74091</td>\n",
              "      <td>1.88511</td>\n",
              "      <td>0.76096</td>\n",
              "      <td>-1.13788</td>\n",
              "      <td>0.88113</td>\n",
              "      <td>1.92173</td>\n",
              "    </tr>\n",
              "    <tr>\n",
              "      <th>1881</th>\n",
              "      <td>-0.95197</td>\n",
              "      <td>-0.24649</td>\n",
              "      <td>1.74091</td>\n",
              "      <td>0.58331</td>\n",
              "      <td>0.76096</td>\n",
              "      <td>-1.51840</td>\n",
              "      <td>0.88113</td>\n",
              "      <td>0.76540</td>\n",
              "    </tr>\n",
              "    <tr>\n",
              "      <th>1882</th>\n",
              "      <td>-0.07854</td>\n",
              "      <td>1.13281</td>\n",
              "      <td>-1.37639</td>\n",
              "      <td>-1.27553</td>\n",
              "      <td>-1.77200</td>\n",
              "      <td>-1.38502</td>\n",
              "      <td>0.52975</td>\n",
              "      <td>-0.52593</td>\n",
              "    </tr>\n",
              "    <tr>\n",
              "      <th>1883</th>\n",
              "      <td>-0.95197</td>\n",
              "      <td>0.91093</td>\n",
              "      <td>-1.92173</td>\n",
              "      <td>0.29338</td>\n",
              "      <td>-1.62090</td>\n",
              "      <td>-2.57309</td>\n",
              "      <td>1.29221</td>\n",
              "      <td>1.22470</td>\n",
              "    </tr>\n",
              "    <tr>\n",
              "      <th>1884</th>\n",
              "      <td>-0.95197</td>\n",
              "      <td>-0.46725</td>\n",
              "      <td>2.12700</td>\n",
              "      <td>1.65653</td>\n",
              "      <td>1.11406</td>\n",
              "      <td>0.41594</td>\n",
              "      <td>0.88113</td>\n",
              "      <td>1.22470</td>\n",
              "    </tr>\n",
              "  </tbody>\n",
              "</table>\n",
              "<p>1885 rows × 8 columns</p>\n",
              "</div>"
            ],
            "text/plain": [
              "          Age   Nscore   Escore   Oscore   Ascore   Cscore  Impulsive       SS\n",
              "0     0.49788  0.31287 -0.57545 -0.58331 -0.91699 -0.00665   -0.21712 -1.18084\n",
              "1    -0.07854 -0.67825  1.93886  1.43533  0.76096 -0.14277   -0.71126 -0.21575\n",
              "2     0.49788 -0.46725  0.80523 -0.84732 -1.62090 -1.01450   -1.37983  0.40148\n",
              "3    -0.95197 -0.14882 -0.80615 -0.01928  0.59042  0.58489   -1.37983 -1.18084\n",
              "4     0.49788  0.73545 -1.63340 -0.45174 -0.30172  1.30612   -0.21712 -0.21575\n",
              "...       ...      ...      ...      ...      ...      ...        ...      ...\n",
              "1880 -0.95197 -1.19430  1.74091  1.88511  0.76096 -1.13788    0.88113  1.92173\n",
              "1881 -0.95197 -0.24649  1.74091  0.58331  0.76096 -1.51840    0.88113  0.76540\n",
              "1882 -0.07854  1.13281 -1.37639 -1.27553 -1.77200 -1.38502    0.52975 -0.52593\n",
              "1883 -0.95197  0.91093 -1.92173  0.29338 -1.62090 -2.57309    1.29221  1.22470\n",
              "1884 -0.95197 -0.46725  2.12700  1.65653  1.11406  0.41594    0.88113  1.22470\n",
              "\n",
              "[1885 rows x 8 columns]"
            ]
          },
          "metadata": {
            "tags": []
          },
          "execution_count": 30
        },
        {
          "output_type": "stream",
          "text": [
            "time: 27 ms\n"
          ],
          "name": "stdout"
        }
      ]
    },
    {
      "cell_type": "code",
      "metadata": {
        "id": "QIT_Mea656wA",
        "colab_type": "code",
        "outputId": "cab25fc3-57de-408f-d0e3-68a28a897bf9",
        "colab": {
          "base_uri": "https://localhost:8080/",
          "height": 418
        }
      },
      "source": [
        "X = df.values\n",
        "df"
      ],
      "execution_count": 0,
      "outputs": [
        {
          "output_type": "execute_result",
          "data": {
            "text/html": [
              "<div>\n",
              "<style scoped>\n",
              "    .dataframe tbody tr th:only-of-type {\n",
              "        vertical-align: middle;\n",
              "    }\n",
              "\n",
              "    .dataframe tbody tr th {\n",
              "        vertical-align: top;\n",
              "    }\n",
              "\n",
              "    .dataframe thead th {\n",
              "        text-align: right;\n",
              "    }\n",
              "</style>\n",
              "<table border=\"1\" class=\"dataframe\">\n",
              "  <thead>\n",
              "    <tr style=\"text-align: right;\">\n",
              "      <th></th>\n",
              "      <th>Age</th>\n",
              "      <th>Nscore</th>\n",
              "      <th>Escore</th>\n",
              "      <th>Oscore</th>\n",
              "      <th>Ascore</th>\n",
              "      <th>Cscore</th>\n",
              "      <th>Impulsive</th>\n",
              "      <th>SS</th>\n",
              "    </tr>\n",
              "  </thead>\n",
              "  <tbody>\n",
              "    <tr>\n",
              "      <th>0</th>\n",
              "      <td>0.49788</td>\n",
              "      <td>0.31287</td>\n",
              "      <td>-0.57545</td>\n",
              "      <td>-0.58331</td>\n",
              "      <td>-0.91699</td>\n",
              "      <td>-0.00665</td>\n",
              "      <td>-0.21712</td>\n",
              "      <td>-1.18084</td>\n",
              "    </tr>\n",
              "    <tr>\n",
              "      <th>1</th>\n",
              "      <td>-0.07854</td>\n",
              "      <td>-0.67825</td>\n",
              "      <td>1.93886</td>\n",
              "      <td>1.43533</td>\n",
              "      <td>0.76096</td>\n",
              "      <td>-0.14277</td>\n",
              "      <td>-0.71126</td>\n",
              "      <td>-0.21575</td>\n",
              "    </tr>\n",
              "    <tr>\n",
              "      <th>2</th>\n",
              "      <td>0.49788</td>\n",
              "      <td>-0.46725</td>\n",
              "      <td>0.80523</td>\n",
              "      <td>-0.84732</td>\n",
              "      <td>-1.62090</td>\n",
              "      <td>-1.01450</td>\n",
              "      <td>-1.37983</td>\n",
              "      <td>0.40148</td>\n",
              "    </tr>\n",
              "    <tr>\n",
              "      <th>3</th>\n",
              "      <td>-0.95197</td>\n",
              "      <td>-0.14882</td>\n",
              "      <td>-0.80615</td>\n",
              "      <td>-0.01928</td>\n",
              "      <td>0.59042</td>\n",
              "      <td>0.58489</td>\n",
              "      <td>-1.37983</td>\n",
              "      <td>-1.18084</td>\n",
              "    </tr>\n",
              "    <tr>\n",
              "      <th>4</th>\n",
              "      <td>0.49788</td>\n",
              "      <td>0.73545</td>\n",
              "      <td>-1.63340</td>\n",
              "      <td>-0.45174</td>\n",
              "      <td>-0.30172</td>\n",
              "      <td>1.30612</td>\n",
              "      <td>-0.21712</td>\n",
              "      <td>-0.21575</td>\n",
              "    </tr>\n",
              "    <tr>\n",
              "      <th>...</th>\n",
              "      <td>...</td>\n",
              "      <td>...</td>\n",
              "      <td>...</td>\n",
              "      <td>...</td>\n",
              "      <td>...</td>\n",
              "      <td>...</td>\n",
              "      <td>...</td>\n",
              "      <td>...</td>\n",
              "    </tr>\n",
              "    <tr>\n",
              "      <th>1880</th>\n",
              "      <td>-0.95197</td>\n",
              "      <td>-1.19430</td>\n",
              "      <td>1.74091</td>\n",
              "      <td>1.88511</td>\n",
              "      <td>0.76096</td>\n",
              "      <td>-1.13788</td>\n",
              "      <td>0.88113</td>\n",
              "      <td>1.92173</td>\n",
              "    </tr>\n",
              "    <tr>\n",
              "      <th>1881</th>\n",
              "      <td>-0.95197</td>\n",
              "      <td>-0.24649</td>\n",
              "      <td>1.74091</td>\n",
              "      <td>0.58331</td>\n",
              "      <td>0.76096</td>\n",
              "      <td>-1.51840</td>\n",
              "      <td>0.88113</td>\n",
              "      <td>0.76540</td>\n",
              "    </tr>\n",
              "    <tr>\n",
              "      <th>1882</th>\n",
              "      <td>-0.07854</td>\n",
              "      <td>1.13281</td>\n",
              "      <td>-1.37639</td>\n",
              "      <td>-1.27553</td>\n",
              "      <td>-1.77200</td>\n",
              "      <td>-1.38502</td>\n",
              "      <td>0.52975</td>\n",
              "      <td>-0.52593</td>\n",
              "    </tr>\n",
              "    <tr>\n",
              "      <th>1883</th>\n",
              "      <td>-0.95197</td>\n",
              "      <td>0.91093</td>\n",
              "      <td>-1.92173</td>\n",
              "      <td>0.29338</td>\n",
              "      <td>-1.62090</td>\n",
              "      <td>-2.57309</td>\n",
              "      <td>1.29221</td>\n",
              "      <td>1.22470</td>\n",
              "    </tr>\n",
              "    <tr>\n",
              "      <th>1884</th>\n",
              "      <td>-0.95197</td>\n",
              "      <td>-0.46725</td>\n",
              "      <td>2.12700</td>\n",
              "      <td>1.65653</td>\n",
              "      <td>1.11406</td>\n",
              "      <td>0.41594</td>\n",
              "      <td>0.88113</td>\n",
              "      <td>1.22470</td>\n",
              "    </tr>\n",
              "  </tbody>\n",
              "</table>\n",
              "<p>1885 rows × 8 columns</p>\n",
              "</div>"
            ],
            "text/plain": [
              "          Age   Nscore   Escore   Oscore   Ascore   Cscore  Impulsive       SS\n",
              "0     0.49788  0.31287 -0.57545 -0.58331 -0.91699 -0.00665   -0.21712 -1.18084\n",
              "1    -0.07854 -0.67825  1.93886  1.43533  0.76096 -0.14277   -0.71126 -0.21575\n",
              "2     0.49788 -0.46725  0.80523 -0.84732 -1.62090 -1.01450   -1.37983  0.40148\n",
              "3    -0.95197 -0.14882 -0.80615 -0.01928  0.59042  0.58489   -1.37983 -1.18084\n",
              "4     0.49788  0.73545 -1.63340 -0.45174 -0.30172  1.30612   -0.21712 -0.21575\n",
              "...       ...      ...      ...      ...      ...      ...        ...      ...\n",
              "1880 -0.95197 -1.19430  1.74091  1.88511  0.76096 -1.13788    0.88113  1.92173\n",
              "1881 -0.95197 -0.24649  1.74091  0.58331  0.76096 -1.51840    0.88113  0.76540\n",
              "1882 -0.07854  1.13281 -1.37639 -1.27553 -1.77200 -1.38502    0.52975 -0.52593\n",
              "1883 -0.95197  0.91093 -1.92173  0.29338 -1.62090 -2.57309    1.29221  1.22470\n",
              "1884 -0.95197 -0.46725  2.12700  1.65653  1.11406  0.41594    0.88113  1.22470\n",
              "\n",
              "[1885 rows x 8 columns]"
            ]
          },
          "metadata": {
            "tags": []
          },
          "execution_count": 31
        },
        {
          "output_type": "stream",
          "text": [
            "time: 29.4 ms\n"
          ],
          "name": "stdout"
        }
      ]
    },
    {
      "cell_type": "code",
      "metadata": {
        "id": "BHcjv8hkBoKa",
        "colab_type": "code",
        "outputId": "b9b6a724-0e84-478f-fdfc-5129b374e524",
        "colab": {
          "base_uri": "https://localhost:8080/",
          "height": 34
        }
      },
      "source": [
        "X.shape"
      ],
      "execution_count": 0,
      "outputs": [
        {
          "output_type": "execute_result",
          "data": {
            "text/plain": [
              "(1885, 8)"
            ]
          },
          "metadata": {
            "tags": []
          },
          "execution_count": 32
        },
        {
          "output_type": "stream",
          "text": [
            "time: 2.31 ms\n"
          ],
          "name": "stdout"
        }
      ]
    },
    {
      "cell_type": "markdown",
      "metadata": {
        "id": "wDcH2nCIB-xi",
        "colab_type": "text"
      },
      "source": [
        "#KNN"
      ]
    },
    {
      "cell_type": "code",
      "metadata": {
        "id": "dV82Saw06BoQ",
        "colab_type": "code",
        "outputId": "978a5d4a-1862-4e2e-83b4-e18e5ecb957a",
        "colab": {
          "base_uri": "https://localhost:8080/",
          "height": 134
        }
      },
      "source": [
        "#membuat NaN values ke dataset\n",
        "random.seed(0)\n",
        "np.random.seed(0)\n",
        "np.set_printoptions(suppress=True)\n",
        "\n",
        "idxs = numpy.random.choice(1885, replace=False, size=50)\n",
        "j =  np.random.choice(range(4,8),50)\n",
        "X_nan = X.copy()\n",
        "print(idxs)\n",
        "print(j)"
      ],
      "execution_count": 0,
      "outputs": [
        {
          "output_type": "stream",
          "text": [
            "[ 220  506 1758 1678   76   27  773 1223  384 1769   85 1476 1222 1520\n",
            "  539  289 1533  708  459 1444 1771  574  107 1727  521  578   18 1110\n",
            "  582 1258  744 1497 1364   80 1055  440 1642 1635 1232 1881 1440 1093\n",
            "  745 1449 1814  776 1547  473 1051   53]\n",
            "[4 5 7 7 7 5 6 7 5 4 4 7 6 4 5 5 4 7 7 4 5 6 5 6 6 4 7 6 5 7 7 5 4 7 6 5 6\n",
            " 5 5 7 5 7 5 7 7 4 7 7 7 4]\n",
            "time: 4.79 ms\n"
          ],
          "name": "stdout"
        }
      ]
    },
    {
      "cell_type": "code",
      "metadata": {
        "id": "JcnJhE0E62ai",
        "colab_type": "code",
        "outputId": "94875539-027d-42f7-f175-dbada0d70c63",
        "colab": {
          "base_uri": "https://localhost:8080/",
          "height": 34
        }
      },
      "source": [
        "X_nan[idxs, j] = np.nan\n",
        "X_nan[220][4]"
      ],
      "execution_count": 0,
      "outputs": [
        {
          "output_type": "execute_result",
          "data": {
            "text/plain": [
              "nan"
            ]
          },
          "metadata": {
            "tags": []
          },
          "execution_count": 36
        },
        {
          "output_type": "stream",
          "text": [
            "time: 3.38 ms\n"
          ],
          "name": "stdout"
        }
      ]
    },
    {
      "cell_type": "code",
      "metadata": {
        "id": "j0_K04gR6-kz",
        "colab_type": "code",
        "outputId": "a868a9ab-9fc2-4f71-8c11-50929c5ccef4",
        "colab": {
          "base_uri": "https://localhost:8080/",
          "height": 134
        }
      },
      "source": [
        "from sklearn.impute import KNNImputer\n",
        "\n",
        "imputer = KNNImputer(n_neighbors=20)\n",
        "df_filled = imputer.fit_transform(X_nan)\n",
        "df_filled"
      ],
      "execution_count": 0,
      "outputs": [
        {
          "output_type": "execute_result",
          "data": {
            "text/plain": [
              "array([[ 0.49788,  0.31287, -0.57545, ..., -0.00665, -0.21712, -1.18084],\n",
              "       [-0.07854, -0.67825,  1.93886, ..., -0.14277, -0.71126, -0.21575],\n",
              "       [ 0.49788, -0.46725,  0.80523, ..., -1.0145 , -1.37983,  0.40148],\n",
              "       ...,\n",
              "       [-0.07854,  1.13281, -1.37639, ..., -1.38502,  0.52975, -0.52593],\n",
              "       [-0.95197,  0.91093, -1.92173, ..., -2.57309,  1.29221,  1.2247 ],\n",
              "       [-0.95197, -0.46725,  2.127  , ...,  0.41594,  0.88113,  1.2247 ]])"
            ]
          },
          "metadata": {
            "tags": []
          },
          "execution_count": 37
        },
        {
          "output_type": "stream",
          "text": [
            "time: 106 ms\n"
          ],
          "name": "stdout"
        }
      ]
    },
    {
      "cell_type": "code",
      "metadata": {
        "id": "aVOUBTif7X5s",
        "colab_type": "code",
        "outputId": "bdcb7e33-26ed-4710-d9fc-6227b795978f",
        "colab": {
          "base_uri": "https://localhost:8080/",
          "height": 101
        }
      },
      "source": [
        "#check error\n",
        "import sklearn.metrics as metrics\n",
        "\n",
        "mae = metrics.mean_absolute_error(X, df_filled)\n",
        "mse = metrics.mean_squared_error(X, df_filled)\n",
        "rmse = np.sqrt(mse) # or mse**(0.5)\n",
        "\n",
        "print(\"Results of sklearn.metrics:\")\n",
        "print(\"MAE:\",mae)\n",
        "print(\"MSE:\", mse)\n",
        "print(\"RMSE:\", rmse)"
      ],
      "execution_count": 0,
      "outputs": [
        {
          "output_type": "stream",
          "text": [
            "Results of sklearn.metrics:\n",
            "MAE: 0.0016458772877984084\n",
            "MSE: 0.0014636197483123177\n",
            "RMSE: 0.03825728359818974\n",
            "time: 6.86 ms\n"
          ],
          "name": "stdout"
        }
      ]
    },
    {
      "cell_type": "markdown",
      "metadata": {
        "id": "1gAYxkkvCA99",
        "colab_type": "text"
      },
      "source": [
        "#Bayesian"
      ]
    },
    {
      "cell_type": "code",
      "metadata": {
        "id": "bUx5fRuUBf32",
        "colab_type": "code",
        "outputId": "6c6c032c-4e7e-445d-df7c-8fa82d2a5e87",
        "colab": {
          "base_uri": "https://localhost:8080/",
          "height": 134
        }
      },
      "source": [
        "#membuat NaN values ke dataset\n",
        "random.seed(0)\n",
        "np.random.seed(0)\n",
        "np.set_printoptions(suppress=True)\n",
        "\n",
        "idxs = numpy.random.choice(1885, replace=False, size=50)\n",
        "j =  np.random.choice(range(4,8),50)\n",
        "X_nan = X.copy()\n",
        "print(idxs)\n",
        "print(j)\n",
        "X_nan[idxs, j] = numpy.nan"
      ],
      "execution_count": 0,
      "outputs": [
        {
          "output_type": "stream",
          "text": [
            "[ 220  506 1758 1678   76   27  773 1223  384 1769   85 1476 1222 1520\n",
            "  539  289 1533  708  459 1444 1771  574  107 1727  521  578   18 1110\n",
            "  582 1258  744 1497 1364   80 1055  440 1642 1635 1232 1881 1440 1093\n",
            "  745 1449 1814  776 1547  473 1051   53]\n",
            "[4 5 7 7 7 5 6 7 5 4 4 7 6 4 5 5 4 7 7 4 5 6 5 6 6 4 7 6 5 7 7 5 4 7 6 5 6\n",
            " 5 5 7 5 7 5 7 7 4 7 7 7 4]\n",
            "time: 6.02 ms\n"
          ],
          "name": "stdout"
        }
      ]
    },
    {
      "cell_type": "code",
      "metadata": {
        "id": "-q74iJIPsvVc",
        "colab_type": "code",
        "outputId": "3a8307a4-1199-49fc-8dd2-ca1ff273e13d",
        "colab": {
          "base_uri": "https://localhost:8080/",
          "height": 34
        }
      },
      "source": [
        "X_nan.shape"
      ],
      "execution_count": 0,
      "outputs": [
        {
          "output_type": "execute_result",
          "data": {
            "text/plain": [
              "(1885, 8)"
            ]
          },
          "metadata": {
            "tags": []
          },
          "execution_count": 41
        },
        {
          "output_type": "stream",
          "text": [
            "time: 2.35 ms\n"
          ],
          "name": "stdout"
        }
      ]
    },
    {
      "cell_type": "code",
      "metadata": {
        "id": "7vMccIIz8UFd",
        "colab_type": "code",
        "outputId": "b056d305-c00c-4007-f7cd-d8a96e76bd27",
        "colab": {
          "base_uri": "https://localhost:8080/",
          "height": 34
        }
      },
      "source": [
        "model1 = BayesianNetwork.from_samples(X_nan, max_parents=5)"
      ],
      "execution_count": 0,
      "outputs": [
        {
          "output_type": "stream",
          "text": [
            "time: 29.7 s\n"
          ],
          "name": "stdout"
        }
      ]
    },
    {
      "cell_type": "code",
      "metadata": {
        "id": "YKMEyYAfKCFJ",
        "colab_type": "code",
        "outputId": "c2c0f1bf-963d-423b-8f52-0d5f13779ad3",
        "colab": {
          "base_uri": "https://localhost:8080/",
          "height": 1000
        }
      },
      "source": [
        "model1.predict_proba({})"
      ],
      "execution_count": 0,
      "outputs": [
        {
          "output_type": "execute_result",
          "data": {
            "text/plain": [
              "array([{\n",
              "    \"class\" :\"Distribution\",\n",
              "    \"dtype\" :\"numpy.float64\",\n",
              "    \"name\" :\"DiscreteDistribution\",\n",
              "    \"parameters\" :[\n",
              "        {\n",
              "            \"0.49788000000000004\" :0.18885941644562335,\n",
              "            \"-0.07854\" :0.25517241379310335,\n",
              "            \"-0.9519700000000001\" :0.3411140583554375,\n",
              "            \"2.59171\" :0.009549071618037346,\n",
              "            \"1.09449\" :0.15596816976127323,\n",
              "            \"1.82213\" :0.049336870026525356\n",
              "        }\n",
              "    ],\n",
              "    \"frozen\" :false\n",
              "},\n",
              "       {\n",
              "    \"class\" :\"Distribution\",\n",
              "    \"dtype\" :\"numpy.float64\",\n",
              "    \"name\" :\"DiscreteDistribution\",\n",
              "    \"parameters\" :[\n",
              "        {\n",
              "            \"0.31287\" :0.035013262599469325,\n",
              "            \"-0.67825\" :0.03183023872679032,\n",
              "            \"-0.46725\" :0.04615384615384586,\n",
              "            \"-0.14882\" :0.04031830238726768,\n",
              "            \"0.73545\" :0.02599469496021213,\n",
              "            \"-1.32828\" :0.018567639257294443,\n",
              "            \"0.62967\" :0.040848806366047506,\n",
              "            \"-0.24649000000000001\" :0.036074270557029,\n",
              "            \"-1.05308\" :0.03023872679045081,\n",
              "            \"2.28554\" :0.00530503978779857,\n",
              "            \"-0.79151\" :0.037135278514588664,\n",
              "            \"-0.92104\" :0.03448275862068949,\n",
              "            \"-2.05048\" :0.00848806366047758,\n",
              "            \"-1.5507799999999998\" :0.01379310344827593,\n",
              "            \"0.52135\" :0.032360742705570156,\n",
              "            \"1.37297\" :0.02122015915119362,\n",
              "            \"-0.34799\" :0.04137931034482734,\n",
              "            \"-1.1943\" :0.029708222811670976,\n",
              "            \"0.41667\" :0.042440318302387016,\n",
              "            \"1.6038299999999999\" :0.014323607427055766,\n",
              "            \"-0.051879999999999996\" :0.036604774535808834,\n",
              "            \"0.04257\" :0.03872679045092817,\n",
              "            \"1.02119\" :0.03554376657824916,\n",
              "            \"0.82562\" :0.027055702917771804,\n",
              "            \"0.13606\" :0.03554376657824916,\n",
              "            \"1.13281\" :0.014323607427055766,\n",
              "            \"-1.43907\" :0.015384615384615434,\n",
              "            \"-0.58016\" :0.032360742705570156,\n",
              "            \"0.22393000000000002\" :0.03342175066312982,\n",
              "            \"-2.21844\" :0.00530503978779857,\n",
              "            \"0.9109299999999999\" :0.019628647214854113,\n",
              "            \"-2.3436\" :0.0021220159151195614,\n",
              "            \"1.8399\" :0.010610079575596919,\n",
              "            \"1.49158\" :0.01273209549071626,\n",
              "            \"3.27393\" :0.0010610079575598917,\n",
              "            \"-1.69163\" :0.0164456233421751,\n",
              "            \"1.98437\" :0.007957559681697746,\n",
              "            \"2.82196\" :0.0026525198938993967,\n",
              "            \"1.23461\" :0.02599469496021213,\n",
              "            \"-1.86962\" :0.01273209549071626,\n",
              "            \"2.127\" :0.005835543766578406,\n",
              "            \"-2.4231700000000003\" :0.0015915119363397266,\n",
              "            \"2.4626200000000003\" :0.0031830238726792315,\n",
              "            \"1.72012\" :0.009018567639257416,\n",
              "            \"2.61139\" :0.0015915119363397266,\n",
              "            \"-2.75696\" :0.003713527851459066,\n",
              "            \"-2.52197\" :0.0021220159151195614,\n",
              "            \"-3.15735\" :0.0005305039787800569,\n",
              "            \"-3.4643599999999997\" :0.0005305039787800569\n",
              "        }\n",
              "    ],\n",
              "    \"frozen\" :false\n",
              "},\n",
              "       {\n",
              "    \"class\" :\"Distribution\",\n",
              "    \"dtype\" :\"numpy.float64\",\n",
              "    \"name\" :\"DiscreteDistribution\",\n",
              "    \"parameters\" :[\n",
              "        {\n",
              "            \"-0.57545\" :0.04721485411140562,\n",
              "            \"1.9388599999999998\" :0.011140583554376778,\n",
              "            \"0.80523\" :0.048275862068965295,\n",
              "            \"-0.80615\" :0.03607427055702907,\n",
              "            \"-1.6334\" :0.012201591511936448,\n",
              "            \"-0.30033000000000004\" :0.05623342175066282,\n",
              "            \"-1.09207\" :0.02758620689655169,\n",
              "            \"2.57309\" :0.004774535809018745,\n",
              "            \"0.0033200000000000005\" :0.06896551724137889,\n",
              "            \"0.16767\" :0.06153846153846119,\n",
              "            \"1.45421\" :0.019628647214854154,\n",
              "            \"-1.50796\" :0.016976127320954968,\n",
              "            \"-1.23177\" :0.029177718832891195,\n",
              "            \"-0.15487\" :0.056763925729442666,\n",
              "            \"-1.7625\" :0.012201591511936448,\n",
              "            \"0.47617\" :0.055702917771883,\n",
              "            \"-0.9477899999999999\" :0.04084880636604758,\n",
              "            \"-3.27393\" :0.0010610079575598937,\n",
              "            \"0.63779\" :0.05464190981432332,\n",
              "            \"-0.43998999999999994\" :0.04774535809018545,\n",
              "            \"1.74091\" :0.01803713527851464,\n",
              "            \"0.32197\" :0.05782493368700233,\n",
              "            \"1.2861\" :0.03289124668435005,\n",
              "            \"0.9624799999999999\" :0.036604774535808904,\n",
              "            \"1.11406\" :0.033952254641909714,\n",
              "            \"-0.69509\" :0.03076923076923071,\n",
              "            \"1.58487\" :0.01326259946949612,\n",
              "            \"-1.37639\" :0.020159151193633987,\n",
              "            \"-1.92173\" :0.011140583554376778,\n",
              "            \"3.00537\" :0.0005305039787800579,\n",
              "            \"2.127\" :0.00795755968169776,\n",
              "            \"2.32338\" :0.00530503978779858,\n",
              "            \"-2.21069\" :0.002652519893899401,\n",
              "            \"-2.32338\" :0.004244031830238909,\n",
              "            \"-2.11437\" :0.004774535809018745,\n",
              "            \"-2.72827\" :0.003183023872679237,\n",
              "            \"-2.5383\" :0.0015915119363397298,\n",
              "            \"-2.44904\" :0.0015915119363397298,\n",
              "            \"-2.03972\" :0.0021220159151195653,\n",
              "            \"2.8595\" :0.0010610079575598937,\n",
              "            \"3.27393\" :0.0010610079575598937,\n",
              "            \"-3.00537\" :0.0005305039787800579\n",
              "        }\n",
              "    ],\n",
              "    \"frozen\" :false\n",
              "},\n",
              "       {\n",
              "    \"class\" :\"Distribution\",\n",
              "    \"dtype\" :\"numpy.float64\",\n",
              "    \"name\" :\"DiscreteDistribution\",\n",
              "    \"parameters\" :[\n",
              "        {\n",
              "            \"-0.58331\" :0.046153846153846004,\n",
              "            \"1.43533\" :0.033421750663129926,\n",
              "            \"-0.8473200000000001\" :0.0360742705570291,\n",
              "            \"-0.019280000000000002\" :0.07108753315649831,\n",
              "            \"-0.45174\" :0.04562334217506616,\n",
              "            \"-1.55521\" :0.013793103448275973,\n",
              "            \"-0.97631\" :0.031830238726790416,\n",
              "            \"-1.42424\" :0.020689655172413845,\n",
              "            \"-1.1190200000000001\" :0.033952254641909756,\n",
              "            \"0.14143\" :0.056763925729442735,\n",
              "            \"0.44585\" :0.0519893899204242,\n",
              "            \"-1.68062\" :0.013262599469496136,\n",
              "            \"-0.31776\" :0.05358090185676371,\n",
              "            \"-0.17779\" :0.054641909814323375,\n",
              "            \"-2.39883\" :0.0058355437665784235,\n",
              "            \"0.7233\" :0.046153846153846004,\n",
              "            \"-1.2755299999999998\" :0.027055702917771884,\n",
              "            \"1.24033\" :0.030238726790450903,\n",
              "            \"-3.27393\" :0.001061007957559895,\n",
              "            \"-0.71727\" :0.0403183023872678,\n",
              "            \"0.8830899999999999\" :0.046153846153846004,\n",
              "            \"0.29338000000000003\" :0.06153846153846126,\n",
              "            \"-2.63199\" :0.002122015915119568,\n",
              "            \"1.0623799999999999\" :0.04297082228116698,\n",
              "            \"-1.97495\" :0.0068965517241380975,\n",
              "            \"-1.82919\" :0.012201591511936463,\n",
              "            \"-2.8595\" :0.002122015915119568,\n",
              "            \"-2.09015\" :0.00477453580901875,\n",
              "            \"0.58331\" :0.04403183023872666,\n",
              "            \"2.1532400000000003\" :0.010079575596817115,\n",
              "            \"-2.21069\" :0.00477453580901875,\n",
              "            \"1.6565299999999998\" :0.020159151193634012,\n",
              "            \"1.8851099999999998\" :0.018037135278514665,\n",
              "            \"2.90161\" :0.0037135278514590776,\n",
              "            \"2.44904\" :0.0068965517241380975\n",
              "        }\n",
              "    ],\n",
              "    \"frozen\" :false\n",
              "},\n",
              "       {\n",
              "    \"class\" :\"Distribution\",\n",
              "    \"dtype\" :\"numpy.float64\",\n",
              "    \"name\" :\"DiscreteDistribution\",\n",
              "    \"parameters\" :[\n",
              "        {\n",
              "            \"-0.91699\" :0.044266666666666496,\n",
              "            \"0.7609600000000001\" :0.055466666666666394,\n",
              "            \"-1.6209\" :0.01600000000000008,\n",
              "            \"0.59042\" :0.05279999999999976,\n",
              "            \"-0.30172\" :0.06079999999999969,\n",
              "            \"2.03972\" :0.008000000000000151,\n",
              "            \"-0.7609600000000001\" :0.04373333333333317,\n",
              "            \"-1.92595\" :0.009600000000000136,\n",
              "            \"0.9415600000000001\" :0.04533333333333316,\n",
              "            \"-0.60633\" :0.05386666666666641,\n",
              "            \"-1.07533\" :0.0330666666666666,\n",
              "            \"0.28783000000000003\" :0.059199999999999704,\n",
              "            \"-0.45321000000000006\" :0.052266666666666434,\n",
              "            \"1.6110799999999998\" :0.01920000000000005,\n",
              "            \"1.11406\" :0.03626666666666657,\n",
              "            \"-0.01729\" :0.05493333333333308,\n",
              "            \"-1.47955\" :0.018133333333333397,\n",
              "            \"0.43851999999999997\" :0.05279999999999976,\n",
              "            \"1.2861\" :0.03093333333333328,\n",
              "            \"-2.90161\" :0.0005333333333335506,\n",
              "            \"0.13136\" :0.06133333333333301,\n",
              "            \"-2.07848\" :0.0069333333333334935,\n",
              "            \"1.81866\" :0.01920000000000005,\n",
              "            \"-0.15487\" :0.05386666666666641,\n",
              "            \"-1.21213\" :0.02400000000000001,\n",
              "            \"-1.34289\" :0.022400000000000024,\n",
              "            \"1.45039\" :0.02080000000000004,\n",
              "            \"-1.7719999999999998\" :0.01280000000000011,\n",
              "            \"2.4626200000000003\" :0.004266666666666851,\n",
              "            \"2.23427\" :0.007466666666666823,\n",
              "            \"-2.35413\" :0.0037333333333335224,\n",
              "            \"-2.70172\" :0.0005333333333335506,\n",
              "            \"-2.21844\" :0.004266666666666851,\n",
              "            \"2.75696\" :0.0037333333333335224,\n",
              "            \"-2.5383\" :0.0037333333333335224,\n",
              "            \"3.15735\" :0.0005333333333335506,\n",
              "            \"-2.78793\" :0.0010666666666668794,\n",
              "            \"-3.00537\" :0.0005333333333335506,\n",
              "            \"-3.4643599999999997\" :0.0005333333333335506,\n",
              "            \"-3.15735\" :0.0005333333333335506,\n",
              "            \"3.4643599999999997\" :0.0005333333333335506\n",
              "        }\n",
              "    ],\n",
              "    \"frozen\" :false\n",
              "},\n",
              "       {\n",
              "    \"class\" :\"Distribution\",\n",
              "    \"dtype\" :\"numpy.float64\",\n",
              "    \"name\" :\"DiscreteDistribution\",\n",
              "    \"parameters\" :[\n",
              "        {\n",
              "            \"-0.00665\" :0.05451630144307828,\n",
              "            \"-0.14277\" :0.05291288081239951,\n",
              "            \"-1.0145\" :0.028861571352218018,\n",
              "            \"0.5848899999999999\" :0.058792089791554994,\n",
              "            \"1.3061200000000002\" :0.025120256547300896,\n",
              "            \"1.6308799999999999\" :0.01817210048102624,\n",
              "            \"0.9394899999999999\" :0.05077498663816116,\n",
              "            \"1.1340700000000001\" :0.04008551576696938,\n",
              "            \"0.12330999999999999\" :0.04756814537680362,\n",
              "            \"1.81175\" :0.014965259219668708,\n",
              "            \"-0.52745\" :0.04115446285408856,\n",
              "            \"-0.78155\" :0.036878674505611844,\n",
              "            \"3.4643599999999997\" :0.0005344735435598108,\n",
              "            \"0.7583\" :0.05077498663816116,\n",
              "            \"-1.3850200000000001\" :0.021913415285943365,\n",
              "            \"-1.5184\" :0.015499732763228297,\n",
              "            \"-1.13788\" :0.026189203634420073,\n",
              "            \"-0.89891\" :0.029396044895777608,\n",
              "            \"1.46191\" :0.022982362373062542,\n",
              "            \"-0.65253\" :0.043292357028326914,\n",
              "            \"0.41594\" :0.058792089791554994,\n",
              "            \"-0.40581\" :0.04543025120256527,\n",
              "            \"0.25953000000000004\" :0.059326563335114574,\n",
              "            \"-1.92173\" :0.006948156066274877,\n",
              "            \"-0.27607\" :0.05184393372528033,\n",
              "            \"-2.18109\" :0.004275788348476932,\n",
              "            \"-1.6410099999999999\" :0.012827365045430354,\n",
              "            \"2.04506\" :0.01443078567610912,\n",
              "            \"2.33337\" :0.006948156066274877,\n",
              "            \"-1.25773\" :0.020844468198824188,\n",
              "            \"2.63199\" :0.004275788348476932,\n",
              "            \"-2.90161\" :0.0016034206306789886,\n",
              "            \"-1.7816900000000002\" :0.012827365045430354,\n",
              "            \"-2.04506\" :0.006948156066274877,\n",
              "            \"-2.57309\" :0.002672367717798166,\n",
              "            \"-2.30408\" :0.0032068412613577547,\n",
              "            \"-2.4231700000000003\" :0.002672367717798166,\n",
              "            \"-3.15735\" :0.0005344735435598108,\n",
              "            \"-3.4643599999999997\" :0.0005344735435598108,\n",
              "            \"-2.72827\" :0.0010689470871193996,\n",
              "            \"3.00537\" :0.0016034206306789886\n",
              "        }\n",
              "    ],\n",
              "    \"frozen\" :false\n",
              "},\n",
              "       {\n",
              "    \"class\" :\"Distribution\",\n",
              "    \"dtype\" :\"numpy.float64\",\n",
              "    \"name\" :\"DiscreteDistribution\",\n",
              "    \"parameters\" :[\n",
              "        {\n",
              "            \"-0.21711999999999998\" :0.1870005327650503,\n",
              "            \"-0.71126\" :0.16302610548747978,\n",
              "            \"-1.37983\" :0.14704315396909948,\n",
              "            \"0.19268\" :0.13692061800745856,\n",
              "            \"0.52975\" :0.11401172083111343,\n",
              "            \"1.29221\" :0.07831646244006404,\n",
              "            \"1.8620299999999999\" :0.05540756526371889,\n",
              "            \"-2.55524\" :0.010655301012253995,\n",
              "            \"0.88113\" :0.10388918486947256,\n",
              "            \"2.90161\" :0.003729355354289188\n",
              "        }\n",
              "    ],\n",
              "    \"frozen\" :false\n",
              "},\n",
              "       {\n",
              "    \"class\" :\"Distribution\",\n",
              "    \"dtype\" :\"numpy.float64\",\n",
              "    \"name\" :\"DiscreteDistribution\",\n",
              "    \"parameters\" :[\n",
              "        {\n",
              "            \"-0.8463700000000001\" :0.0898531508179018,\n",
              "            \"-0.52593\" :0.11240675786488112,\n",
              "            \"-0.21575\" :0.11673899113572245,\n",
              "            \"0.07987000000000001\" :0.11562451032686517,\n",
              "            \"0.40148\" :0.13293785854961632,\n",
              "            \"0.7654\" :0.11193137334382788,\n",
              "            \"1.2247\" :0.11248173186601687,\n",
              "            \"1.92173\" :0.05437722758026295,\n",
              "            \"-1.5485799999999998\" :0.046179657444766896,\n",
              "            \"-2.07848\" :0.037000030203051655,\n",
              "            \"-1.18084\" :0.0704687108670869\n",
              "        }\n",
              "    ],\n",
              "    \"frozen\" :false\n",
              "}], dtype=object)"
            ]
          },
          "metadata": {
            "tags": []
          },
          "execution_count": 43
        },
        {
          "output_type": "stream",
          "text": [
            "time: 16.4 ms\n"
          ],
          "name": "stdout"
        }
      ]
    },
    {
      "cell_type": "code",
      "metadata": {
        "id": "f5Ig5k7R91nH",
        "colab_type": "code",
        "outputId": "2b5d0ffc-18fd-48ef-c667-84ccf88a82da",
        "colab": {
          "base_uri": "https://localhost:8080/",
          "height": 34
        }
      },
      "source": [
        "y_pred1 = model1.predict(X_nan)"
      ],
      "execution_count": 0,
      "outputs": [
        {
          "output_type": "stream",
          "text": [
            "time: 7.66 s\n"
          ],
          "name": "stdout"
        }
      ]
    },
    {
      "cell_type": "code",
      "metadata": {
        "id": "nRbZdUuAMaI-",
        "colab_type": "code",
        "outputId": "4a5f1f28-585e-47e0-cdc3-0386fa9d1307",
        "colab": {
          "base_uri": "https://localhost:8080/",
          "height": 101
        }
      },
      "source": [
        "#check error\n",
        "import sklearn.metrics as metrics\n",
        "\n",
        "mae = metrics.mean_absolute_error(X, np.array(y_pred1))\n",
        "mse = metrics.mean_squared_error(X, np.array(y_pred1))\n",
        "rmse = np.sqrt(mse) # or mse**(0.5)\n",
        "\n",
        "print(\"Results of sklearn.metrics:\")\n",
        "print(\"MAE:\",mae)\n",
        "print(\"MSE:\", mse)\n",
        "print(\"RMSE:\", rmse)"
      ],
      "execution_count": 0,
      "outputs": [
        {
          "output_type": "stream",
          "text": [
            "Results of sklearn.metrics:\n",
            "MAE: 0.002153342838196286\n",
            "MSE: 0.0026644241845424407\n",
            "RMSE: 0.05161806064298077\n",
            "time: 7.96 ms\n"
          ],
          "name": "stdout"
        }
      ]
    },
    {
      "cell_type": "markdown",
      "metadata": {
        "id": "FFSPduLm-hwH",
        "colab_type": "text"
      },
      "source": [
        "#Deterministic Regression"
      ]
    },
    {
      "cell_type": "code",
      "metadata": {
        "id": "6s7aGG80_Xys",
        "colab_type": "code",
        "outputId": "c659f045-e8c2-416e-b69f-a8c03bdf90e3",
        "colab": {
          "base_uri": "https://localhost:8080/",
          "height": 418
        }
      },
      "source": [
        "df2 = dataset[['Age', 'Nscore', 'Escore', 'Oscore', 'Ascore', 'Cscore', 'Impulsive', 'SS']]\n",
        "# df2 = pd.get_dummies(df2, columns=['Alcohol'])\n",
        "X2 = df2.values\n",
        "df2"
      ],
      "execution_count": 0,
      "outputs": [
        {
          "output_type": "execute_result",
          "data": {
            "text/html": [
              "<div>\n",
              "<style scoped>\n",
              "    .dataframe tbody tr th:only-of-type {\n",
              "        vertical-align: middle;\n",
              "    }\n",
              "\n",
              "    .dataframe tbody tr th {\n",
              "        vertical-align: top;\n",
              "    }\n",
              "\n",
              "    .dataframe thead th {\n",
              "        text-align: right;\n",
              "    }\n",
              "</style>\n",
              "<table border=\"1\" class=\"dataframe\">\n",
              "  <thead>\n",
              "    <tr style=\"text-align: right;\">\n",
              "      <th></th>\n",
              "      <th>Age</th>\n",
              "      <th>Nscore</th>\n",
              "      <th>Escore</th>\n",
              "      <th>Oscore</th>\n",
              "      <th>Ascore</th>\n",
              "      <th>Cscore</th>\n",
              "      <th>Impulsive</th>\n",
              "      <th>SS</th>\n",
              "    </tr>\n",
              "  </thead>\n",
              "  <tbody>\n",
              "    <tr>\n",
              "      <th>0</th>\n",
              "      <td>0.49788</td>\n",
              "      <td>0.31287</td>\n",
              "      <td>-0.57545</td>\n",
              "      <td>-0.58331</td>\n",
              "      <td>-0.91699</td>\n",
              "      <td>-0.00665</td>\n",
              "      <td>-0.21712</td>\n",
              "      <td>-1.18084</td>\n",
              "    </tr>\n",
              "    <tr>\n",
              "      <th>1</th>\n",
              "      <td>-0.07854</td>\n",
              "      <td>-0.67825</td>\n",
              "      <td>1.93886</td>\n",
              "      <td>1.43533</td>\n",
              "      <td>0.76096</td>\n",
              "      <td>-0.14277</td>\n",
              "      <td>-0.71126</td>\n",
              "      <td>-0.21575</td>\n",
              "    </tr>\n",
              "    <tr>\n",
              "      <th>2</th>\n",
              "      <td>0.49788</td>\n",
              "      <td>-0.46725</td>\n",
              "      <td>0.80523</td>\n",
              "      <td>-0.84732</td>\n",
              "      <td>-1.62090</td>\n",
              "      <td>-1.01450</td>\n",
              "      <td>-1.37983</td>\n",
              "      <td>0.40148</td>\n",
              "    </tr>\n",
              "    <tr>\n",
              "      <th>3</th>\n",
              "      <td>-0.95197</td>\n",
              "      <td>-0.14882</td>\n",
              "      <td>-0.80615</td>\n",
              "      <td>-0.01928</td>\n",
              "      <td>0.59042</td>\n",
              "      <td>0.58489</td>\n",
              "      <td>-1.37983</td>\n",
              "      <td>-1.18084</td>\n",
              "    </tr>\n",
              "    <tr>\n",
              "      <th>4</th>\n",
              "      <td>0.49788</td>\n",
              "      <td>0.73545</td>\n",
              "      <td>-1.63340</td>\n",
              "      <td>-0.45174</td>\n",
              "      <td>-0.30172</td>\n",
              "      <td>1.30612</td>\n",
              "      <td>-0.21712</td>\n",
              "      <td>-0.21575</td>\n",
              "    </tr>\n",
              "    <tr>\n",
              "      <th>...</th>\n",
              "      <td>...</td>\n",
              "      <td>...</td>\n",
              "      <td>...</td>\n",
              "      <td>...</td>\n",
              "      <td>...</td>\n",
              "      <td>...</td>\n",
              "      <td>...</td>\n",
              "      <td>...</td>\n",
              "    </tr>\n",
              "    <tr>\n",
              "      <th>1880</th>\n",
              "      <td>-0.95197</td>\n",
              "      <td>-1.19430</td>\n",
              "      <td>1.74091</td>\n",
              "      <td>1.88511</td>\n",
              "      <td>0.76096</td>\n",
              "      <td>-1.13788</td>\n",
              "      <td>0.88113</td>\n",
              "      <td>1.92173</td>\n",
              "    </tr>\n",
              "    <tr>\n",
              "      <th>1881</th>\n",
              "      <td>-0.95197</td>\n",
              "      <td>-0.24649</td>\n",
              "      <td>1.74091</td>\n",
              "      <td>0.58331</td>\n",
              "      <td>0.76096</td>\n",
              "      <td>-1.51840</td>\n",
              "      <td>0.88113</td>\n",
              "      <td>0.76540</td>\n",
              "    </tr>\n",
              "    <tr>\n",
              "      <th>1882</th>\n",
              "      <td>-0.07854</td>\n",
              "      <td>1.13281</td>\n",
              "      <td>-1.37639</td>\n",
              "      <td>-1.27553</td>\n",
              "      <td>-1.77200</td>\n",
              "      <td>-1.38502</td>\n",
              "      <td>0.52975</td>\n",
              "      <td>-0.52593</td>\n",
              "    </tr>\n",
              "    <tr>\n",
              "      <th>1883</th>\n",
              "      <td>-0.95197</td>\n",
              "      <td>0.91093</td>\n",
              "      <td>-1.92173</td>\n",
              "      <td>0.29338</td>\n",
              "      <td>-1.62090</td>\n",
              "      <td>-2.57309</td>\n",
              "      <td>1.29221</td>\n",
              "      <td>1.22470</td>\n",
              "    </tr>\n",
              "    <tr>\n",
              "      <th>1884</th>\n",
              "      <td>-0.95197</td>\n",
              "      <td>-0.46725</td>\n",
              "      <td>2.12700</td>\n",
              "      <td>1.65653</td>\n",
              "      <td>1.11406</td>\n",
              "      <td>0.41594</td>\n",
              "      <td>0.88113</td>\n",
              "      <td>1.22470</td>\n",
              "    </tr>\n",
              "  </tbody>\n",
              "</table>\n",
              "<p>1885 rows × 8 columns</p>\n",
              "</div>"
            ],
            "text/plain": [
              "          Age   Nscore   Escore   Oscore   Ascore   Cscore  Impulsive       SS\n",
              "0     0.49788  0.31287 -0.57545 -0.58331 -0.91699 -0.00665   -0.21712 -1.18084\n",
              "1    -0.07854 -0.67825  1.93886  1.43533  0.76096 -0.14277   -0.71126 -0.21575\n",
              "2     0.49788 -0.46725  0.80523 -0.84732 -1.62090 -1.01450   -1.37983  0.40148\n",
              "3    -0.95197 -0.14882 -0.80615 -0.01928  0.59042  0.58489   -1.37983 -1.18084\n",
              "4     0.49788  0.73545 -1.63340 -0.45174 -0.30172  1.30612   -0.21712 -0.21575\n",
              "...       ...      ...      ...      ...      ...      ...        ...      ...\n",
              "1880 -0.95197 -1.19430  1.74091  1.88511  0.76096 -1.13788    0.88113  1.92173\n",
              "1881 -0.95197 -0.24649  1.74091  0.58331  0.76096 -1.51840    0.88113  0.76540\n",
              "1882 -0.07854  1.13281 -1.37639 -1.27553 -1.77200 -1.38502    0.52975 -0.52593\n",
              "1883 -0.95197  0.91093 -1.92173  0.29338 -1.62090 -2.57309    1.29221  1.22470\n",
              "1884 -0.95197 -0.46725  2.12700  1.65653  1.11406  0.41594    0.88113  1.22470\n",
              "\n",
              "[1885 rows x 8 columns]"
            ]
          },
          "metadata": {
            "tags": []
          },
          "execution_count": 44
        },
        {
          "output_type": "stream",
          "text": [
            "time: 29.2 ms\n"
          ],
          "name": "stdout"
        }
      ]
    },
    {
      "cell_type": "code",
      "metadata": {
        "id": "7J2P-n5_McLf",
        "colab_type": "code",
        "outputId": "196c1a9e-dde8-41ad-ef8f-41bcf5e762b3",
        "colab": {
          "base_uri": "https://localhost:8080/",
          "height": 519
        }
      },
      "source": [
        "#membuat NaN values ke dataset\n",
        "random.seed(0)\n",
        "np.random.seed(0)\n",
        "np.set_printoptions(suppress=True)\n",
        "\n",
        "idxs = np.random.choice(1885, replace=False, size=50)\n",
        "j =  np.random.choice(range(4,8),50)\n",
        "X_nan = X2.copy()\n",
        "print(idxs)\n",
        "print(j)\n",
        "X_nan[idxs, j] = numpy.nan\n",
        "df_nan = pd.DataFrame(X_nan, columns=['Age', 'Nscore', 'Escore', 'Oscore', 'Ascore', 'Cscore', 'Impulsive', 'SS'])\n",
        "df_nan"
      ],
      "execution_count": 0,
      "outputs": [
        {
          "output_type": "stream",
          "text": [
            "[ 220  506 1758 1678   76   27  773 1223  384 1769   85 1476 1222 1520\n",
            "  539  289 1533  708  459 1444 1771  574  107 1727  521  578   18 1110\n",
            "  582 1258  744 1497 1364   80 1055  440 1642 1635 1232 1881 1440 1093\n",
            "  745 1449 1814  776 1547  473 1051   53]\n",
            "[4 5 7 7 7 5 6 7 5 4 4 7 6 4 5 5 4 7 7 4 5 6 5 6 6 4 7 6 5 7 7 5 4 7 6 5 6\n",
            " 5 5 7 5 7 5 7 7 4 7 7 7 4]\n"
          ],
          "name": "stdout"
        },
        {
          "output_type": "execute_result",
          "data": {
            "text/html": [
              "<div>\n",
              "<style scoped>\n",
              "    .dataframe tbody tr th:only-of-type {\n",
              "        vertical-align: middle;\n",
              "    }\n",
              "\n",
              "    .dataframe tbody tr th {\n",
              "        vertical-align: top;\n",
              "    }\n",
              "\n",
              "    .dataframe thead th {\n",
              "        text-align: right;\n",
              "    }\n",
              "</style>\n",
              "<table border=\"1\" class=\"dataframe\">\n",
              "  <thead>\n",
              "    <tr style=\"text-align: right;\">\n",
              "      <th></th>\n",
              "      <th>Age</th>\n",
              "      <th>Nscore</th>\n",
              "      <th>Escore</th>\n",
              "      <th>Oscore</th>\n",
              "      <th>Ascore</th>\n",
              "      <th>Cscore</th>\n",
              "      <th>Impulsive</th>\n",
              "      <th>SS</th>\n",
              "    </tr>\n",
              "  </thead>\n",
              "  <tbody>\n",
              "    <tr>\n",
              "      <th>0</th>\n",
              "      <td>0.49788</td>\n",
              "      <td>0.31287</td>\n",
              "      <td>-0.57545</td>\n",
              "      <td>-0.58331</td>\n",
              "      <td>-0.91699</td>\n",
              "      <td>-0.00665</td>\n",
              "      <td>-0.21712</td>\n",
              "      <td>-1.18084</td>\n",
              "    </tr>\n",
              "    <tr>\n",
              "      <th>1</th>\n",
              "      <td>-0.07854</td>\n",
              "      <td>-0.67825</td>\n",
              "      <td>1.93886</td>\n",
              "      <td>1.43533</td>\n",
              "      <td>0.76096</td>\n",
              "      <td>-0.14277</td>\n",
              "      <td>-0.71126</td>\n",
              "      <td>-0.21575</td>\n",
              "    </tr>\n",
              "    <tr>\n",
              "      <th>2</th>\n",
              "      <td>0.49788</td>\n",
              "      <td>-0.46725</td>\n",
              "      <td>0.80523</td>\n",
              "      <td>-0.84732</td>\n",
              "      <td>-1.62090</td>\n",
              "      <td>-1.01450</td>\n",
              "      <td>-1.37983</td>\n",
              "      <td>0.40148</td>\n",
              "    </tr>\n",
              "    <tr>\n",
              "      <th>3</th>\n",
              "      <td>-0.95197</td>\n",
              "      <td>-0.14882</td>\n",
              "      <td>-0.80615</td>\n",
              "      <td>-0.01928</td>\n",
              "      <td>0.59042</td>\n",
              "      <td>0.58489</td>\n",
              "      <td>-1.37983</td>\n",
              "      <td>-1.18084</td>\n",
              "    </tr>\n",
              "    <tr>\n",
              "      <th>4</th>\n",
              "      <td>0.49788</td>\n",
              "      <td>0.73545</td>\n",
              "      <td>-1.63340</td>\n",
              "      <td>-0.45174</td>\n",
              "      <td>-0.30172</td>\n",
              "      <td>1.30612</td>\n",
              "      <td>-0.21712</td>\n",
              "      <td>-0.21575</td>\n",
              "    </tr>\n",
              "    <tr>\n",
              "      <th>...</th>\n",
              "      <td>...</td>\n",
              "      <td>...</td>\n",
              "      <td>...</td>\n",
              "      <td>...</td>\n",
              "      <td>...</td>\n",
              "      <td>...</td>\n",
              "      <td>...</td>\n",
              "      <td>...</td>\n",
              "    </tr>\n",
              "    <tr>\n",
              "      <th>1880</th>\n",
              "      <td>-0.95197</td>\n",
              "      <td>-1.19430</td>\n",
              "      <td>1.74091</td>\n",
              "      <td>1.88511</td>\n",
              "      <td>0.76096</td>\n",
              "      <td>-1.13788</td>\n",
              "      <td>0.88113</td>\n",
              "      <td>1.92173</td>\n",
              "    </tr>\n",
              "    <tr>\n",
              "      <th>1881</th>\n",
              "      <td>-0.95197</td>\n",
              "      <td>-0.24649</td>\n",
              "      <td>1.74091</td>\n",
              "      <td>0.58331</td>\n",
              "      <td>0.76096</td>\n",
              "      <td>-1.51840</td>\n",
              "      <td>0.88113</td>\n",
              "      <td>NaN</td>\n",
              "    </tr>\n",
              "    <tr>\n",
              "      <th>1882</th>\n",
              "      <td>-0.07854</td>\n",
              "      <td>1.13281</td>\n",
              "      <td>-1.37639</td>\n",
              "      <td>-1.27553</td>\n",
              "      <td>-1.77200</td>\n",
              "      <td>-1.38502</td>\n",
              "      <td>0.52975</td>\n",
              "      <td>-0.52593</td>\n",
              "    </tr>\n",
              "    <tr>\n",
              "      <th>1883</th>\n",
              "      <td>-0.95197</td>\n",
              "      <td>0.91093</td>\n",
              "      <td>-1.92173</td>\n",
              "      <td>0.29338</td>\n",
              "      <td>-1.62090</td>\n",
              "      <td>-2.57309</td>\n",
              "      <td>1.29221</td>\n",
              "      <td>1.22470</td>\n",
              "    </tr>\n",
              "    <tr>\n",
              "      <th>1884</th>\n",
              "      <td>-0.95197</td>\n",
              "      <td>-0.46725</td>\n",
              "      <td>2.12700</td>\n",
              "      <td>1.65653</td>\n",
              "      <td>1.11406</td>\n",
              "      <td>0.41594</td>\n",
              "      <td>0.88113</td>\n",
              "      <td>1.22470</td>\n",
              "    </tr>\n",
              "  </tbody>\n",
              "</table>\n",
              "<p>1885 rows × 8 columns</p>\n",
              "</div>"
            ],
            "text/plain": [
              "          Age   Nscore   Escore   Oscore   Ascore   Cscore  Impulsive       SS\n",
              "0     0.49788  0.31287 -0.57545 -0.58331 -0.91699 -0.00665   -0.21712 -1.18084\n",
              "1    -0.07854 -0.67825  1.93886  1.43533  0.76096 -0.14277   -0.71126 -0.21575\n",
              "2     0.49788 -0.46725  0.80523 -0.84732 -1.62090 -1.01450   -1.37983  0.40148\n",
              "3    -0.95197 -0.14882 -0.80615 -0.01928  0.59042  0.58489   -1.37983 -1.18084\n",
              "4     0.49788  0.73545 -1.63340 -0.45174 -0.30172  1.30612   -0.21712 -0.21575\n",
              "...       ...      ...      ...      ...      ...      ...        ...      ...\n",
              "1880 -0.95197 -1.19430  1.74091  1.88511  0.76096 -1.13788    0.88113  1.92173\n",
              "1881 -0.95197 -0.24649  1.74091  0.58331  0.76096 -1.51840    0.88113      NaN\n",
              "1882 -0.07854  1.13281 -1.37639 -1.27553 -1.77200 -1.38502    0.52975 -0.52593\n",
              "1883 -0.95197  0.91093 -1.92173  0.29338 -1.62090 -2.57309    1.29221  1.22470\n",
              "1884 -0.95197 -0.46725  2.12700  1.65653  1.11406  0.41594    0.88113  1.22470\n",
              "\n",
              "[1885 rows x 8 columns]"
            ]
          },
          "metadata": {
            "tags": []
          },
          "execution_count": 45
        },
        {
          "output_type": "stream",
          "text": [
            "time: 32.1 ms\n"
          ],
          "name": "stdout"
        }
      ]
    },
    {
      "cell_type": "code",
      "metadata": {
        "id": "QQyDO68n_MoE",
        "colab_type": "code",
        "outputId": "e71ec44d-5efe-465e-bee3-e14af944ee74",
        "colab": {
          "base_uri": "https://localhost:8080/",
          "height": 168
        }
      },
      "source": [
        "df_nan.isna().sum()"
      ],
      "execution_count": 0,
      "outputs": [
        {
          "output_type": "execute_result",
          "data": {
            "text/plain": [
              "Age           0\n",
              "Nscore        0\n",
              "Escore        0\n",
              "Oscore        0\n",
              "Ascore       10\n",
              "Cscore       14\n",
              "Impulsive     8\n",
              "SS           18\n",
              "dtype: int64"
            ]
          },
          "metadata": {
            "tags": []
          },
          "execution_count": 46
        },
        {
          "output_type": "stream",
          "text": [
            "time: 5.27 ms\n"
          ],
          "name": "stdout"
        }
      ]
    },
    {
      "cell_type": "code",
      "metadata": {
        "id": "n577GxdLt1Ku",
        "colab_type": "code",
        "outputId": "1cef0977-c57d-4ab8-b21e-e385b4a453c4",
        "colab": {
          "base_uri": "https://localhost:8080/",
          "height": 34
        }
      },
      "source": [
        "set(df_nan.columns)"
      ],
      "execution_count": 0,
      "outputs": [
        {
          "output_type": "execute_result",
          "data": {
            "text/plain": [
              "{'Age', 'Ascore', 'Cscore', 'Escore', 'Impulsive', 'Nscore', 'Oscore', 'SS'}"
            ]
          },
          "metadata": {
            "tags": []
          },
          "execution_count": 47
        },
        {
          "output_type": "stream",
          "text": [
            "time: 2.78 ms\n"
          ],
          "name": "stdout"
        }
      ]
    },
    {
      "cell_type": "code",
      "metadata": {
        "id": "tzv-gigF_QMp",
        "colab_type": "code",
        "outputId": "935fff20-5a0b-4cea-dcf8-1d0c8013a51b",
        "colab": {
          "base_uri": "https://localhost:8080/",
          "height": 101
        }
      },
      "source": [
        "missing_columns = ['Ascore', 'Cscore', 'Impulsive', 'SS']\n",
        "deter_data = pd.DataFrame(columns = [\"Det\" + name for name in missing_columns])\n",
        "from sklearn.linear_model import LinearRegression\n",
        "for feature in missing_columns:\n",
        "  # print(feature)\n",
        "  deter_data[\"Det\" + feature] = df_nan[feature]\n",
        "  parameters = list(set(df_nan.columns) - set(missing_columns) - {feature})\n",
        "  print(parameters)\n",
        "  # #Create a Linear Regression model to estimate the missing data\n",
        "  model = LinearRegression()\n",
        "  model.fit(X = df2[parameters], y = df2[feature])\n",
        "\n",
        "  #observe that I preserve the index of the missing data from the original dataframe\n",
        "  deter_data.loc[df_nan[feature].isna(), \"Det\" + feature] = model.predict(df_nan[parameters])[df_nan[feature].isna()]"
      ],
      "execution_count": 0,
      "outputs": [
        {
          "output_type": "stream",
          "text": [
            "['Escore', 'Age', 'Oscore', 'Nscore']\n",
            "['Escore', 'Age', 'Oscore', 'Nscore']\n",
            "['Escore', 'Age', 'Oscore', 'Nscore']\n",
            "['Escore', 'Age', 'Oscore', 'Nscore']\n",
            "time: 47.7 ms\n"
          ],
          "name": "stdout"
        }
      ]
    },
    {
      "cell_type": "code",
      "metadata": {
        "id": "QvsmLjZEGpvE",
        "colab_type": "code",
        "outputId": "9acc60a5-c4cf-4e00-975c-20094fea71fc",
        "colab": {
          "base_uri": "https://localhost:8080/",
          "height": 418
        }
      },
      "source": [
        "deter_data"
      ],
      "execution_count": 0,
      "outputs": [
        {
          "output_type": "execute_result",
          "data": {
            "text/html": [
              "<div>\n",
              "<style scoped>\n",
              "    .dataframe tbody tr th:only-of-type {\n",
              "        vertical-align: middle;\n",
              "    }\n",
              "\n",
              "    .dataframe tbody tr th {\n",
              "        vertical-align: top;\n",
              "    }\n",
              "\n",
              "    .dataframe thead th {\n",
              "        text-align: right;\n",
              "    }\n",
              "</style>\n",
              "<table border=\"1\" class=\"dataframe\">\n",
              "  <thead>\n",
              "    <tr style=\"text-align: right;\">\n",
              "      <th></th>\n",
              "      <th>DetAscore</th>\n",
              "      <th>DetCscore</th>\n",
              "      <th>DetImpulsive</th>\n",
              "      <th>DetSS</th>\n",
              "    </tr>\n",
              "  </thead>\n",
              "  <tbody>\n",
              "    <tr>\n",
              "      <th>0</th>\n",
              "      <td>-0.91699</td>\n",
              "      <td>-0.00665</td>\n",
              "      <td>-0.21712</td>\n",
              "      <td>-1.18084</td>\n",
              "    </tr>\n",
              "    <tr>\n",
              "      <th>1</th>\n",
              "      <td>0.76096</td>\n",
              "      <td>-0.14277</td>\n",
              "      <td>-0.71126</td>\n",
              "      <td>-0.21575</td>\n",
              "    </tr>\n",
              "    <tr>\n",
              "      <th>2</th>\n",
              "      <td>-1.62090</td>\n",
              "      <td>-1.01450</td>\n",
              "      <td>-1.37983</td>\n",
              "      <td>0.40148</td>\n",
              "    </tr>\n",
              "    <tr>\n",
              "      <th>3</th>\n",
              "      <td>0.59042</td>\n",
              "      <td>0.58489</td>\n",
              "      <td>-1.37983</td>\n",
              "      <td>-1.18084</td>\n",
              "    </tr>\n",
              "    <tr>\n",
              "      <th>4</th>\n",
              "      <td>-0.30172</td>\n",
              "      <td>1.30612</td>\n",
              "      <td>-0.21712</td>\n",
              "      <td>-0.21575</td>\n",
              "    </tr>\n",
              "    <tr>\n",
              "      <th>...</th>\n",
              "      <td>...</td>\n",
              "      <td>...</td>\n",
              "      <td>...</td>\n",
              "      <td>...</td>\n",
              "    </tr>\n",
              "    <tr>\n",
              "      <th>1880</th>\n",
              "      <td>0.76096</td>\n",
              "      <td>-1.13788</td>\n",
              "      <td>0.88113</td>\n",
              "      <td>1.92173</td>\n",
              "    </tr>\n",
              "    <tr>\n",
              "      <th>1881</th>\n",
              "      <td>0.76096</td>\n",
              "      <td>-1.51840</td>\n",
              "      <td>0.88113</td>\n",
              "      <td>0.70017</td>\n",
              "    </tr>\n",
              "    <tr>\n",
              "      <th>1882</th>\n",
              "      <td>-1.77200</td>\n",
              "      <td>-1.38502</td>\n",
              "      <td>0.52975</td>\n",
              "      <td>-0.52593</td>\n",
              "    </tr>\n",
              "    <tr>\n",
              "      <th>1883</th>\n",
              "      <td>-1.62090</td>\n",
              "      <td>-2.57309</td>\n",
              "      <td>1.29221</td>\n",
              "      <td>1.22470</td>\n",
              "    </tr>\n",
              "    <tr>\n",
              "      <th>1884</th>\n",
              "      <td>1.11406</td>\n",
              "      <td>0.41594</td>\n",
              "      <td>0.88113</td>\n",
              "      <td>1.22470</td>\n",
              "    </tr>\n",
              "  </tbody>\n",
              "</table>\n",
              "<p>1885 rows × 4 columns</p>\n",
              "</div>"
            ],
            "text/plain": [
              "      DetAscore  DetCscore  DetImpulsive    DetSS\n",
              "0      -0.91699   -0.00665      -0.21712 -1.18084\n",
              "1       0.76096   -0.14277      -0.71126 -0.21575\n",
              "2      -1.62090   -1.01450      -1.37983  0.40148\n",
              "3       0.59042    0.58489      -1.37983 -1.18084\n",
              "4      -0.30172    1.30612      -0.21712 -0.21575\n",
              "...         ...        ...           ...      ...\n",
              "1880    0.76096   -1.13788       0.88113  1.92173\n",
              "1881    0.76096   -1.51840       0.88113  0.70017\n",
              "1882   -1.77200   -1.38502       0.52975 -0.52593\n",
              "1883   -1.62090   -2.57309       1.29221  1.22470\n",
              "1884    1.11406    0.41594       0.88113  1.22470\n",
              "\n",
              "[1885 rows x 4 columns]"
            ]
          },
          "metadata": {
            "tags": []
          },
          "execution_count": 24
        },
        {
          "output_type": "stream",
          "text": [
            "time: 17.5 ms\n"
          ],
          "name": "stdout"
        }
      ]
    },
    {
      "cell_type": "code",
      "metadata": {
        "id": "K4VeD-jeAoeH",
        "colab_type": "code",
        "outputId": "955cfbba-ac62-42b3-df0b-114100797a3c",
        "colab": {
          "base_uri": "https://localhost:8080/",
          "height": 418
        }
      },
      "source": [
        "non_missing_columns = ['Age', 'Nscore', 'Escore', 'Oscore', 'Ascore', 'Cscore', 'Impulsive', 'SS']\n",
        "data_non_nan = pd.DataFrame(columns = [\"Det\" + name for name in non_missing_columns])\n",
        "\n",
        "for feature in non_missing_columns:\n",
        "  data_non_nan[\"Det\" + feature] = df2[feature]\n",
        "\n",
        "for feature in missing_columns:\n",
        "  data_non_nan[\"Det\" + feature] = deter_data[\"Det\" + feature]\n",
        "data_non_nan"
      ],
      "execution_count": 0,
      "outputs": [
        {
          "output_type": "execute_result",
          "data": {
            "text/html": [
              "<div>\n",
              "<style scoped>\n",
              "    .dataframe tbody tr th:only-of-type {\n",
              "        vertical-align: middle;\n",
              "    }\n",
              "\n",
              "    .dataframe tbody tr th {\n",
              "        vertical-align: top;\n",
              "    }\n",
              "\n",
              "    .dataframe thead th {\n",
              "        text-align: right;\n",
              "    }\n",
              "</style>\n",
              "<table border=\"1\" class=\"dataframe\">\n",
              "  <thead>\n",
              "    <tr style=\"text-align: right;\">\n",
              "      <th></th>\n",
              "      <th>DetAge</th>\n",
              "      <th>DetNscore</th>\n",
              "      <th>DetEscore</th>\n",
              "      <th>DetOscore</th>\n",
              "      <th>DetAscore</th>\n",
              "      <th>DetCscore</th>\n",
              "      <th>DetImpulsive</th>\n",
              "      <th>DetSS</th>\n",
              "    </tr>\n",
              "  </thead>\n",
              "  <tbody>\n",
              "    <tr>\n",
              "      <th>0</th>\n",
              "      <td>0.49788</td>\n",
              "      <td>0.31287</td>\n",
              "      <td>-0.57545</td>\n",
              "      <td>-0.58331</td>\n",
              "      <td>-0.91699</td>\n",
              "      <td>-0.00665</td>\n",
              "      <td>-0.21712</td>\n",
              "      <td>-1.18084</td>\n",
              "    </tr>\n",
              "    <tr>\n",
              "      <th>1</th>\n",
              "      <td>-0.07854</td>\n",
              "      <td>-0.67825</td>\n",
              "      <td>1.93886</td>\n",
              "      <td>1.43533</td>\n",
              "      <td>0.76096</td>\n",
              "      <td>-0.14277</td>\n",
              "      <td>-0.71126</td>\n",
              "      <td>-0.21575</td>\n",
              "    </tr>\n",
              "    <tr>\n",
              "      <th>2</th>\n",
              "      <td>0.49788</td>\n",
              "      <td>-0.46725</td>\n",
              "      <td>0.80523</td>\n",
              "      <td>-0.84732</td>\n",
              "      <td>-1.62090</td>\n",
              "      <td>-1.01450</td>\n",
              "      <td>-1.37983</td>\n",
              "      <td>0.40148</td>\n",
              "    </tr>\n",
              "    <tr>\n",
              "      <th>3</th>\n",
              "      <td>-0.95197</td>\n",
              "      <td>-0.14882</td>\n",
              "      <td>-0.80615</td>\n",
              "      <td>-0.01928</td>\n",
              "      <td>0.59042</td>\n",
              "      <td>0.58489</td>\n",
              "      <td>-1.37983</td>\n",
              "      <td>-1.18084</td>\n",
              "    </tr>\n",
              "    <tr>\n",
              "      <th>4</th>\n",
              "      <td>0.49788</td>\n",
              "      <td>0.73545</td>\n",
              "      <td>-1.63340</td>\n",
              "      <td>-0.45174</td>\n",
              "      <td>-0.30172</td>\n",
              "      <td>1.30612</td>\n",
              "      <td>-0.21712</td>\n",
              "      <td>-0.21575</td>\n",
              "    </tr>\n",
              "    <tr>\n",
              "      <th>...</th>\n",
              "      <td>...</td>\n",
              "      <td>...</td>\n",
              "      <td>...</td>\n",
              "      <td>...</td>\n",
              "      <td>...</td>\n",
              "      <td>...</td>\n",
              "      <td>...</td>\n",
              "      <td>...</td>\n",
              "    </tr>\n",
              "    <tr>\n",
              "      <th>1880</th>\n",
              "      <td>-0.95197</td>\n",
              "      <td>-1.19430</td>\n",
              "      <td>1.74091</td>\n",
              "      <td>1.88511</td>\n",
              "      <td>0.76096</td>\n",
              "      <td>-1.13788</td>\n",
              "      <td>0.88113</td>\n",
              "      <td>1.92173</td>\n",
              "    </tr>\n",
              "    <tr>\n",
              "      <th>1881</th>\n",
              "      <td>-0.95197</td>\n",
              "      <td>-0.24649</td>\n",
              "      <td>1.74091</td>\n",
              "      <td>0.58331</td>\n",
              "      <td>0.76096</td>\n",
              "      <td>-1.51840</td>\n",
              "      <td>0.88113</td>\n",
              "      <td>0.70017</td>\n",
              "    </tr>\n",
              "    <tr>\n",
              "      <th>1882</th>\n",
              "      <td>-0.07854</td>\n",
              "      <td>1.13281</td>\n",
              "      <td>-1.37639</td>\n",
              "      <td>-1.27553</td>\n",
              "      <td>-1.77200</td>\n",
              "      <td>-1.38502</td>\n",
              "      <td>0.52975</td>\n",
              "      <td>-0.52593</td>\n",
              "    </tr>\n",
              "    <tr>\n",
              "      <th>1883</th>\n",
              "      <td>-0.95197</td>\n",
              "      <td>0.91093</td>\n",
              "      <td>-1.92173</td>\n",
              "      <td>0.29338</td>\n",
              "      <td>-1.62090</td>\n",
              "      <td>-2.57309</td>\n",
              "      <td>1.29221</td>\n",
              "      <td>1.22470</td>\n",
              "    </tr>\n",
              "    <tr>\n",
              "      <th>1884</th>\n",
              "      <td>-0.95197</td>\n",
              "      <td>-0.46725</td>\n",
              "      <td>2.12700</td>\n",
              "      <td>1.65653</td>\n",
              "      <td>1.11406</td>\n",
              "      <td>0.41594</td>\n",
              "      <td>0.88113</td>\n",
              "      <td>1.22470</td>\n",
              "    </tr>\n",
              "  </tbody>\n",
              "</table>\n",
              "<p>1885 rows × 8 columns</p>\n",
              "</div>"
            ],
            "text/plain": [
              "       DetAge  DetNscore  DetEscore  ...  DetCscore  DetImpulsive    DetSS\n",
              "0     0.49788    0.31287   -0.57545  ...   -0.00665      -0.21712 -1.18084\n",
              "1    -0.07854   -0.67825    1.93886  ...   -0.14277      -0.71126 -0.21575\n",
              "2     0.49788   -0.46725    0.80523  ...   -1.01450      -1.37983  0.40148\n",
              "3    -0.95197   -0.14882   -0.80615  ...    0.58489      -1.37983 -1.18084\n",
              "4     0.49788    0.73545   -1.63340  ...    1.30612      -0.21712 -0.21575\n",
              "...       ...        ...        ...  ...        ...           ...      ...\n",
              "1880 -0.95197   -1.19430    1.74091  ...   -1.13788       0.88113  1.92173\n",
              "1881 -0.95197   -0.24649    1.74091  ...   -1.51840       0.88113  0.70017\n",
              "1882 -0.07854    1.13281   -1.37639  ...   -1.38502       0.52975 -0.52593\n",
              "1883 -0.95197    0.91093   -1.92173  ...   -2.57309       1.29221  1.22470\n",
              "1884 -0.95197   -0.46725    2.12700  ...    0.41594       0.88113  1.22470\n",
              "\n",
              "[1885 rows x 8 columns]"
            ]
          },
          "metadata": {
            "tags": []
          },
          "execution_count": 25
        },
        {
          "output_type": "stream",
          "text": [
            "time: 42 ms\n"
          ],
          "name": "stdout"
        }
      ]
    },
    {
      "cell_type": "code",
      "metadata": {
        "id": "SWNatZQQFH5u",
        "colab_type": "code",
        "outputId": "59c6396d-2309-47ef-8f3a-4b42fe86672b",
        "colab": {
          "base_uri": "https://localhost:8080/",
          "height": 101
        }
      },
      "source": [
        "#check error\n",
        "import sklearn.metrics as metrics\n",
        "\n",
        "mae = metrics.mean_absolute_error(X, np.array(data_non_nan))\n",
        "mse = metrics.mean_squared_error(X, np.array(data_non_nan))\n",
        "rmse = np.sqrt(mse) # or mse**(0.5)\n",
        "\n",
        "print(\"Results of sklearn.metrics:\")\n",
        "print(\"MAE:\",mae)\n",
        "print(\"MSE:\", mse)\n",
        "print(\"RMSE:\", rmse)"
      ],
      "execution_count": 0,
      "outputs": [
        {
          "output_type": "stream",
          "text": [
            "Results of sklearn.metrics:\n",
            "MAE: 0.0017147880549502653\n",
            "MSE: 0.0016718871462969177\n",
            "RMSE: 0.04088871661347318\n",
            "time: 7.55 ms\n"
          ],
          "name": "stdout"
        }
      ]
    },
    {
      "cell_type": "markdown",
      "metadata": {
        "id": "9_Yn8MyrRiiy",
        "colab_type": "text"
      },
      "source": [
        "#Summary"
      ]
    },
    {
      "cell_type": "markdown",
      "metadata": {
        "id": "IQQ6mhFPRnUO",
        "colab_type": "text"
      },
      "source": [
        "##Drug Consumtion"
      ]
    },
    {
      "cell_type": "markdown",
      "metadata": {
        "id": "M2KoXyJXRqBs",
        "colab_type": "text"
      },
      "source": [
        "###KNN\n"
      ]
    },
    {
      "cell_type": "markdown",
      "metadata": {
        "id": "JXVy057CR5J9",
        "colab_type": "text"
      },
      "source": [
        "####Results of sklearn.metrics:\n",
        "####MAE: 0.0016458772877984084\n",
        "####MSE: 0.0014636197483123177\n",
        "####RMSE: 0.03825728359818974"
      ]
    },
    {
      "cell_type": "markdown",
      "metadata": {
        "id": "G4XpiFo3R7dn",
        "colab_type": "text"
      },
      "source": [
        "###Bayesian Network"
      ]
    },
    {
      "cell_type": "markdown",
      "metadata": {
        "id": "RTK2Pla6SMcW",
        "colab_type": "text"
      },
      "source": [
        "####Results of sklearn.metrics:\n",
        "####MAE: 0.002153342838196286\n",
        "####MSE: 0.0026644241845424407\n",
        "####RMSE: 0.05161806064298077"
      ]
    },
    {
      "cell_type": "markdown",
      "metadata": {
        "id": "eyAZXTq-SAnM",
        "colab_type": "text"
      },
      "source": [
        "###Linear Regression"
      ]
    },
    {
      "cell_type": "markdown",
      "metadata": {
        "id": "xJeHZ_uLSG9V",
        "colab_type": "text"
      },
      "source": [
        "####Results of sklearn.metrics:\n",
        "####MAE: 0.0017147880549502653\n",
        "####MSE: 0.0016718871462969177\n",
        "####RMSE: 0.04088871661347318"
      ]
    },
    {
      "cell_type": "code",
      "metadata": {
        "id": "15YO3AxPR_I8",
        "colab_type": "code",
        "colab": {}
      },
      "source": [
        ""
      ],
      "execution_count": 0,
      "outputs": []
    }
  ]
}
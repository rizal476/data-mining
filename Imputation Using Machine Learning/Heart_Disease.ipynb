{
  "nbformat": 4,
  "nbformat_minor": 0,
  "metadata": {
    "colab": {
      "name": "Heart Disease.ipynb",
      "provenance": [],
      "collapsed_sections": [],
      "machine_shape": "hm"
    },
    "kernelspec": {
      "name": "python3",
      "display_name": "Python 3"
    },
    "accelerator": "GPU"
  },
  "cells": [
    {
      "cell_type": "code",
      "metadata": {
        "id": "yQQJeIrE48R7",
        "colab_type": "code",
        "outputId": "96581aad-2f64-42be-de76-49a2abfdc446",
        "colab": {
          "base_uri": "https://localhost:8080/",
          "height": 151
        }
      },
      "source": [
        "pip install pomegranate"
      ],
      "execution_count": 0,
      "outputs": [
        {
          "output_type": "stream",
          "text": [
            "Requirement already satisfied: pomegranate in /usr/local/lib/python3.6/dist-packages (0.12.2)\n",
            "Requirement already satisfied: networkx>=2.0 in /usr/local/lib/python3.6/dist-packages (from pomegranate) (2.4)\n",
            "Requirement already satisfied: numpy>=1.8.0 in /usr/local/lib/python3.6/dist-packages (from pomegranate) (1.18.3)\n",
            "Requirement already satisfied: pyyaml in /usr/local/lib/python3.6/dist-packages (from pomegranate) (3.13)\n",
            "Requirement already satisfied: joblib>=0.9.0b4 in /usr/local/lib/python3.6/dist-packages (from pomegranate) (0.14.1)\n",
            "Requirement already satisfied: scipy>=0.17.0 in /usr/local/lib/python3.6/dist-packages (from pomegranate) (1.4.1)\n",
            "Requirement already satisfied: decorator>=4.3.0 in /usr/local/lib/python3.6/dist-packages (from networkx>=2.0->pomegranate) (4.4.2)\n",
            "time: 3.58 s\n"
          ],
          "name": "stdout"
        }
      ]
    },
    {
      "cell_type": "code",
      "metadata": {
        "id": "RPmXaXTYjkiC",
        "colab_type": "code",
        "outputId": "76ffd884-6c33-4af2-9c3b-2248314cfb99",
        "colab": {
          "base_uri": "https://localhost:8080/",
          "height": 50
        }
      },
      "source": [
        "pip install ipython-autotime"
      ],
      "execution_count": 0,
      "outputs": [
        {
          "output_type": "stream",
          "text": [
            "Requirement already satisfied: ipython-autotime in /usr/local/lib/python3.6/dist-packages (0.1)\n",
            "time: 3.84 s\n"
          ],
          "name": "stdout"
        }
      ]
    },
    {
      "cell_type": "code",
      "metadata": {
        "id": "mGLZKubcjp8Y",
        "colab_type": "code",
        "outputId": "bb36b627-ccb4-4cf7-ce18-774b95d44ac6",
        "colab": {
          "base_uri": "https://localhost:8080/",
          "height": 67
        }
      },
      "source": [
        "%load_ext autotime"
      ],
      "execution_count": 0,
      "outputs": [
        {
          "output_type": "stream",
          "text": [
            "The autotime extension is already loaded. To reload it, use:\n",
            "  %reload_ext autotime\n",
            "time: 2.22 ms\n"
          ],
          "name": "stdout"
        }
      ]
    },
    {
      "cell_type": "code",
      "metadata": {
        "id": "BPBwujK3494P",
        "colab_type": "code",
        "outputId": "ac780b51-fdec-4640-abdb-bcff35bb9939",
        "colab": {
          "base_uri": "https://localhost:8080/",
          "height": 34
        }
      },
      "source": [
        "import time\n",
        "import numpy as np\n",
        "import pandas as pd\n",
        "from pomegranate import *\n",
        "import matplotlib.pyplot as plt\n",
        "import random"
      ],
      "execution_count": 0,
      "outputs": [
        {
          "output_type": "stream",
          "text": [
            "time: 2.23 ms\n"
          ],
          "name": "stdout"
        }
      ]
    },
    {
      "cell_type": "code",
      "metadata": {
        "id": "sQu8m8w_5ADi",
        "colab_type": "code",
        "outputId": "b107d68f-7470-417c-8b92-9ae73a50142c",
        "colab": {
          "base_uri": "https://localhost:8080/",
          "height": 138
        }
      },
      "source": [
        "from google.colab import drive\n",
        "drive.mount('/content/drive')"
      ],
      "execution_count": 0,
      "outputs": [
        {
          "output_type": "stream",
          "text": [
            "Go to this URL in a browser: https://accounts.google.com/o/oauth2/auth?client_id=947318989803-6bn6qk8qdgf4n4g3pfee6491hc0brc4i.apps.googleusercontent.com&redirect_uri=urn%3aietf%3awg%3aoauth%3a2.0%3aoob&response_type=code&scope=email%20https%3a%2f%2fwww.googleapis.com%2fauth%2fdocs.test%20https%3a%2f%2fwww.googleapis.com%2fauth%2fdrive%20https%3a%2f%2fwww.googleapis.com%2fauth%2fdrive.photos.readonly%20https%3a%2f%2fwww.googleapis.com%2fauth%2fpeopleapi.readonly\n",
            "\n",
            "Enter your authorization code:\n",
            "··········\n",
            "Mounted at /content/drive\n",
            "time: 15.1 s\n"
          ],
          "name": "stdout"
        }
      ]
    },
    {
      "cell_type": "code",
      "metadata": {
        "id": "4HLqmoM85I0m",
        "colab_type": "code",
        "outputId": "b243d1c9-c05c-4374-b651-820f7a3dacf3",
        "colab": {
          "base_uri": "https://localhost:8080/",
          "height": 418
        }
      },
      "source": [
        "dataset = pd.read_csv(\"/content/drive/My Drive/DAMIN/HeartDisease.csv\")\n",
        "dataset"
      ],
      "execution_count": 0,
      "outputs": [
        {
          "output_type": "execute_result",
          "data": {
            "text/html": [
              "<div>\n",
              "<style scoped>\n",
              "    .dataframe tbody tr th:only-of-type {\n",
              "        vertical-align: middle;\n",
              "    }\n",
              "\n",
              "    .dataframe tbody tr th {\n",
              "        vertical-align: top;\n",
              "    }\n",
              "\n",
              "    .dataframe thead th {\n",
              "        text-align: right;\n",
              "    }\n",
              "</style>\n",
              "<table border=\"1\" class=\"dataframe\">\n",
              "  <thead>\n",
              "    <tr style=\"text-align: right;\">\n",
              "      <th></th>\n",
              "      <th>Age</th>\n",
              "      <th>Sex</th>\n",
              "      <th>CP</th>\n",
              "      <th>Trestbps</th>\n",
              "      <th>Chol</th>\n",
              "      <th>Fbs</th>\n",
              "      <th>Restecg</th>\n",
              "      <th>Thalach</th>\n",
              "      <th>Exang</th>\n",
              "      <th>Oldpeak</th>\n",
              "      <th>Slope</th>\n",
              "      <th>Ca</th>\n",
              "      <th>Thal</th>\n",
              "      <th>Num (predicted attribute)</th>\n",
              "    </tr>\n",
              "  </thead>\n",
              "  <tbody>\n",
              "    <tr>\n",
              "      <th>0</th>\n",
              "      <td>63</td>\n",
              "      <td>1</td>\n",
              "      <td>1</td>\n",
              "      <td>145</td>\n",
              "      <td>233</td>\n",
              "      <td>1</td>\n",
              "      <td>2</td>\n",
              "      <td>150</td>\n",
              "      <td>0</td>\n",
              "      <td>2.3</td>\n",
              "      <td>3</td>\n",
              "      <td>0</td>\n",
              "      <td>6</td>\n",
              "      <td>0</td>\n",
              "    </tr>\n",
              "    <tr>\n",
              "      <th>1</th>\n",
              "      <td>67</td>\n",
              "      <td>1</td>\n",
              "      <td>4</td>\n",
              "      <td>160</td>\n",
              "      <td>286</td>\n",
              "      <td>0</td>\n",
              "      <td>2</td>\n",
              "      <td>108</td>\n",
              "      <td>1</td>\n",
              "      <td>1.5</td>\n",
              "      <td>2</td>\n",
              "      <td>3</td>\n",
              "      <td>3</td>\n",
              "      <td>2</td>\n",
              "    </tr>\n",
              "    <tr>\n",
              "      <th>2</th>\n",
              "      <td>67</td>\n",
              "      <td>1</td>\n",
              "      <td>4</td>\n",
              "      <td>120</td>\n",
              "      <td>229</td>\n",
              "      <td>0</td>\n",
              "      <td>2</td>\n",
              "      <td>129</td>\n",
              "      <td>1</td>\n",
              "      <td>2.6</td>\n",
              "      <td>2</td>\n",
              "      <td>2</td>\n",
              "      <td>7</td>\n",
              "      <td>1</td>\n",
              "    </tr>\n",
              "    <tr>\n",
              "      <th>3</th>\n",
              "      <td>37</td>\n",
              "      <td>1</td>\n",
              "      <td>3</td>\n",
              "      <td>130</td>\n",
              "      <td>250</td>\n",
              "      <td>0</td>\n",
              "      <td>0</td>\n",
              "      <td>187</td>\n",
              "      <td>0</td>\n",
              "      <td>3.5</td>\n",
              "      <td>3</td>\n",
              "      <td>0</td>\n",
              "      <td>3</td>\n",
              "      <td>0</td>\n",
              "    </tr>\n",
              "    <tr>\n",
              "      <th>4</th>\n",
              "      <td>41</td>\n",
              "      <td>0</td>\n",
              "      <td>2</td>\n",
              "      <td>130</td>\n",
              "      <td>204</td>\n",
              "      <td>0</td>\n",
              "      <td>2</td>\n",
              "      <td>172</td>\n",
              "      <td>0</td>\n",
              "      <td>1.4</td>\n",
              "      <td>1</td>\n",
              "      <td>0</td>\n",
              "      <td>3</td>\n",
              "      <td>0</td>\n",
              "    </tr>\n",
              "    <tr>\n",
              "      <th>...</th>\n",
              "      <td>...</td>\n",
              "      <td>...</td>\n",
              "      <td>...</td>\n",
              "      <td>...</td>\n",
              "      <td>...</td>\n",
              "      <td>...</td>\n",
              "      <td>...</td>\n",
              "      <td>...</td>\n",
              "      <td>...</td>\n",
              "      <td>...</td>\n",
              "      <td>...</td>\n",
              "      <td>...</td>\n",
              "      <td>...</td>\n",
              "      <td>...</td>\n",
              "    </tr>\n",
              "    <tr>\n",
              "      <th>298</th>\n",
              "      <td>45</td>\n",
              "      <td>1</td>\n",
              "      <td>1</td>\n",
              "      <td>110</td>\n",
              "      <td>264</td>\n",
              "      <td>0</td>\n",
              "      <td>0</td>\n",
              "      <td>132</td>\n",
              "      <td>0</td>\n",
              "      <td>1.2</td>\n",
              "      <td>2</td>\n",
              "      <td>0</td>\n",
              "      <td>7</td>\n",
              "      <td>1</td>\n",
              "    </tr>\n",
              "    <tr>\n",
              "      <th>299</th>\n",
              "      <td>68</td>\n",
              "      <td>1</td>\n",
              "      <td>4</td>\n",
              "      <td>144</td>\n",
              "      <td>193</td>\n",
              "      <td>1</td>\n",
              "      <td>0</td>\n",
              "      <td>141</td>\n",
              "      <td>0</td>\n",
              "      <td>3.4</td>\n",
              "      <td>2</td>\n",
              "      <td>2</td>\n",
              "      <td>7</td>\n",
              "      <td>2</td>\n",
              "    </tr>\n",
              "    <tr>\n",
              "      <th>300</th>\n",
              "      <td>57</td>\n",
              "      <td>1</td>\n",
              "      <td>4</td>\n",
              "      <td>130</td>\n",
              "      <td>131</td>\n",
              "      <td>0</td>\n",
              "      <td>0</td>\n",
              "      <td>115</td>\n",
              "      <td>1</td>\n",
              "      <td>1.2</td>\n",
              "      <td>2</td>\n",
              "      <td>1</td>\n",
              "      <td>7</td>\n",
              "      <td>3</td>\n",
              "    </tr>\n",
              "    <tr>\n",
              "      <th>301</th>\n",
              "      <td>57</td>\n",
              "      <td>0</td>\n",
              "      <td>2</td>\n",
              "      <td>130</td>\n",
              "      <td>236</td>\n",
              "      <td>0</td>\n",
              "      <td>2</td>\n",
              "      <td>174</td>\n",
              "      <td>0</td>\n",
              "      <td>0.0</td>\n",
              "      <td>2</td>\n",
              "      <td>1</td>\n",
              "      <td>3</td>\n",
              "      <td>1</td>\n",
              "    </tr>\n",
              "    <tr>\n",
              "      <th>302</th>\n",
              "      <td>38</td>\n",
              "      <td>1</td>\n",
              "      <td>3</td>\n",
              "      <td>138</td>\n",
              "      <td>175</td>\n",
              "      <td>0</td>\n",
              "      <td>0</td>\n",
              "      <td>173</td>\n",
              "      <td>0</td>\n",
              "      <td>0.0</td>\n",
              "      <td>1</td>\n",
              "      <td>?</td>\n",
              "      <td>3</td>\n",
              "      <td>0</td>\n",
              "    </tr>\n",
              "  </tbody>\n",
              "</table>\n",
              "<p>303 rows × 14 columns</p>\n",
              "</div>"
            ],
            "text/plain": [
              "     Age  Sex  CP  Trestbps  ...  Slope  Ca  Thal  Num (predicted attribute)\n",
              "0     63    1   1       145  ...      3   0     6                          0\n",
              "1     67    1   4       160  ...      2   3     3                          2\n",
              "2     67    1   4       120  ...      2   2     7                          1\n",
              "3     37    1   3       130  ...      3   0     3                          0\n",
              "4     41    0   2       130  ...      1   0     3                          0\n",
              "..   ...  ...  ..       ...  ...    ...  ..   ...                        ...\n",
              "298   45    1   1       110  ...      2   0     7                          1\n",
              "299   68    1   4       144  ...      2   2     7                          2\n",
              "300   57    1   4       130  ...      2   1     7                          3\n",
              "301   57    0   2       130  ...      2   1     3                          1\n",
              "302   38    1   3       138  ...      1   ?     3                          0\n",
              "\n",
              "[303 rows x 14 columns]"
            ]
          },
          "metadata": {
            "tags": []
          },
          "execution_count": 11
        },
        {
          "output_type": "stream",
          "text": [
            "time: 448 ms\n"
          ],
          "name": "stdout"
        }
      ]
    },
    {
      "cell_type": "code",
      "metadata": {
        "id": "6Rx-rNpk5zL-",
        "colab_type": "code",
        "outputId": "2ac8cb9d-aa16-44c4-d45a-7580f3b17f41",
        "colab": {
          "base_uri": "https://localhost:8080/",
          "height": 418
        }
      },
      "source": [
        "#Hanya gunakan non categorical values\n",
        "df = dataset[['Age', 'Trestbps', 'Chol', 'Thalach', 'Oldpeak']]\n",
        "df"
      ],
      "execution_count": 0,
      "outputs": [
        {
          "output_type": "execute_result",
          "data": {
            "text/html": [
              "<div>\n",
              "<style scoped>\n",
              "    .dataframe tbody tr th:only-of-type {\n",
              "        vertical-align: middle;\n",
              "    }\n",
              "\n",
              "    .dataframe tbody tr th {\n",
              "        vertical-align: top;\n",
              "    }\n",
              "\n",
              "    .dataframe thead th {\n",
              "        text-align: right;\n",
              "    }\n",
              "</style>\n",
              "<table border=\"1\" class=\"dataframe\">\n",
              "  <thead>\n",
              "    <tr style=\"text-align: right;\">\n",
              "      <th></th>\n",
              "      <th>Age</th>\n",
              "      <th>Trestbps</th>\n",
              "      <th>Chol</th>\n",
              "      <th>Thalach</th>\n",
              "      <th>Oldpeak</th>\n",
              "    </tr>\n",
              "  </thead>\n",
              "  <tbody>\n",
              "    <tr>\n",
              "      <th>0</th>\n",
              "      <td>63</td>\n",
              "      <td>145</td>\n",
              "      <td>233</td>\n",
              "      <td>150</td>\n",
              "      <td>2.3</td>\n",
              "    </tr>\n",
              "    <tr>\n",
              "      <th>1</th>\n",
              "      <td>67</td>\n",
              "      <td>160</td>\n",
              "      <td>286</td>\n",
              "      <td>108</td>\n",
              "      <td>1.5</td>\n",
              "    </tr>\n",
              "    <tr>\n",
              "      <th>2</th>\n",
              "      <td>67</td>\n",
              "      <td>120</td>\n",
              "      <td>229</td>\n",
              "      <td>129</td>\n",
              "      <td>2.6</td>\n",
              "    </tr>\n",
              "    <tr>\n",
              "      <th>3</th>\n",
              "      <td>37</td>\n",
              "      <td>130</td>\n",
              "      <td>250</td>\n",
              "      <td>187</td>\n",
              "      <td>3.5</td>\n",
              "    </tr>\n",
              "    <tr>\n",
              "      <th>4</th>\n",
              "      <td>41</td>\n",
              "      <td>130</td>\n",
              "      <td>204</td>\n",
              "      <td>172</td>\n",
              "      <td>1.4</td>\n",
              "    </tr>\n",
              "    <tr>\n",
              "      <th>...</th>\n",
              "      <td>...</td>\n",
              "      <td>...</td>\n",
              "      <td>...</td>\n",
              "      <td>...</td>\n",
              "      <td>...</td>\n",
              "    </tr>\n",
              "    <tr>\n",
              "      <th>298</th>\n",
              "      <td>45</td>\n",
              "      <td>110</td>\n",
              "      <td>264</td>\n",
              "      <td>132</td>\n",
              "      <td>1.2</td>\n",
              "    </tr>\n",
              "    <tr>\n",
              "      <th>299</th>\n",
              "      <td>68</td>\n",
              "      <td>144</td>\n",
              "      <td>193</td>\n",
              "      <td>141</td>\n",
              "      <td>3.4</td>\n",
              "    </tr>\n",
              "    <tr>\n",
              "      <th>300</th>\n",
              "      <td>57</td>\n",
              "      <td>130</td>\n",
              "      <td>131</td>\n",
              "      <td>115</td>\n",
              "      <td>1.2</td>\n",
              "    </tr>\n",
              "    <tr>\n",
              "      <th>301</th>\n",
              "      <td>57</td>\n",
              "      <td>130</td>\n",
              "      <td>236</td>\n",
              "      <td>174</td>\n",
              "      <td>0.0</td>\n",
              "    </tr>\n",
              "    <tr>\n",
              "      <th>302</th>\n",
              "      <td>38</td>\n",
              "      <td>138</td>\n",
              "      <td>175</td>\n",
              "      <td>173</td>\n",
              "      <td>0.0</td>\n",
              "    </tr>\n",
              "  </tbody>\n",
              "</table>\n",
              "<p>303 rows × 5 columns</p>\n",
              "</div>"
            ],
            "text/plain": [
              "     Age  Trestbps  Chol  Thalach  Oldpeak\n",
              "0     63       145   233      150      2.3\n",
              "1     67       160   286      108      1.5\n",
              "2     67       120   229      129      2.6\n",
              "3     37       130   250      187      3.5\n",
              "4     41       130   204      172      1.4\n",
              "..   ...       ...   ...      ...      ...\n",
              "298   45       110   264      132      1.2\n",
              "299   68       144   193      141      3.4\n",
              "300   57       130   131      115      1.2\n",
              "301   57       130   236      174      0.0\n",
              "302   38       138   175      173      0.0\n",
              "\n",
              "[303 rows x 5 columns]"
            ]
          },
          "metadata": {
            "tags": []
          },
          "execution_count": 12
        },
        {
          "output_type": "stream",
          "text": [
            "time: 19.2 ms\n"
          ],
          "name": "stdout"
        }
      ]
    },
    {
      "cell_type": "code",
      "metadata": {
        "id": "QIT_Mea656wA",
        "colab_type": "code",
        "outputId": "19002af4-0c3f-475e-829b-affd13c7f9c3",
        "colab": {
          "base_uri": "https://localhost:8080/",
          "height": 418
        }
      },
      "source": [
        "X = df.values\n",
        "df"
      ],
      "execution_count": 0,
      "outputs": [
        {
          "output_type": "execute_result",
          "data": {
            "text/html": [
              "<div>\n",
              "<style scoped>\n",
              "    .dataframe tbody tr th:only-of-type {\n",
              "        vertical-align: middle;\n",
              "    }\n",
              "\n",
              "    .dataframe tbody tr th {\n",
              "        vertical-align: top;\n",
              "    }\n",
              "\n",
              "    .dataframe thead th {\n",
              "        text-align: right;\n",
              "    }\n",
              "</style>\n",
              "<table border=\"1\" class=\"dataframe\">\n",
              "  <thead>\n",
              "    <tr style=\"text-align: right;\">\n",
              "      <th></th>\n",
              "      <th>Age</th>\n",
              "      <th>Trestbps</th>\n",
              "      <th>Chol</th>\n",
              "      <th>Thalach</th>\n",
              "      <th>Oldpeak</th>\n",
              "    </tr>\n",
              "  </thead>\n",
              "  <tbody>\n",
              "    <tr>\n",
              "      <th>0</th>\n",
              "      <td>63</td>\n",
              "      <td>145</td>\n",
              "      <td>233</td>\n",
              "      <td>150</td>\n",
              "      <td>2.3</td>\n",
              "    </tr>\n",
              "    <tr>\n",
              "      <th>1</th>\n",
              "      <td>67</td>\n",
              "      <td>160</td>\n",
              "      <td>286</td>\n",
              "      <td>108</td>\n",
              "      <td>1.5</td>\n",
              "    </tr>\n",
              "    <tr>\n",
              "      <th>2</th>\n",
              "      <td>67</td>\n",
              "      <td>120</td>\n",
              "      <td>229</td>\n",
              "      <td>129</td>\n",
              "      <td>2.6</td>\n",
              "    </tr>\n",
              "    <tr>\n",
              "      <th>3</th>\n",
              "      <td>37</td>\n",
              "      <td>130</td>\n",
              "      <td>250</td>\n",
              "      <td>187</td>\n",
              "      <td>3.5</td>\n",
              "    </tr>\n",
              "    <tr>\n",
              "      <th>4</th>\n",
              "      <td>41</td>\n",
              "      <td>130</td>\n",
              "      <td>204</td>\n",
              "      <td>172</td>\n",
              "      <td>1.4</td>\n",
              "    </tr>\n",
              "    <tr>\n",
              "      <th>...</th>\n",
              "      <td>...</td>\n",
              "      <td>...</td>\n",
              "      <td>...</td>\n",
              "      <td>...</td>\n",
              "      <td>...</td>\n",
              "    </tr>\n",
              "    <tr>\n",
              "      <th>298</th>\n",
              "      <td>45</td>\n",
              "      <td>110</td>\n",
              "      <td>264</td>\n",
              "      <td>132</td>\n",
              "      <td>1.2</td>\n",
              "    </tr>\n",
              "    <tr>\n",
              "      <th>299</th>\n",
              "      <td>68</td>\n",
              "      <td>144</td>\n",
              "      <td>193</td>\n",
              "      <td>141</td>\n",
              "      <td>3.4</td>\n",
              "    </tr>\n",
              "    <tr>\n",
              "      <th>300</th>\n",
              "      <td>57</td>\n",
              "      <td>130</td>\n",
              "      <td>131</td>\n",
              "      <td>115</td>\n",
              "      <td>1.2</td>\n",
              "    </tr>\n",
              "    <tr>\n",
              "      <th>301</th>\n",
              "      <td>57</td>\n",
              "      <td>130</td>\n",
              "      <td>236</td>\n",
              "      <td>174</td>\n",
              "      <td>0.0</td>\n",
              "    </tr>\n",
              "    <tr>\n",
              "      <th>302</th>\n",
              "      <td>38</td>\n",
              "      <td>138</td>\n",
              "      <td>175</td>\n",
              "      <td>173</td>\n",
              "      <td>0.0</td>\n",
              "    </tr>\n",
              "  </tbody>\n",
              "</table>\n",
              "<p>303 rows × 5 columns</p>\n",
              "</div>"
            ],
            "text/plain": [
              "     Age  Trestbps  Chol  Thalach  Oldpeak\n",
              "0     63       145   233      150      2.3\n",
              "1     67       160   286      108      1.5\n",
              "2     67       120   229      129      2.6\n",
              "3     37       130   250      187      3.5\n",
              "4     41       130   204      172      1.4\n",
              "..   ...       ...   ...      ...      ...\n",
              "298   45       110   264      132      1.2\n",
              "299   68       144   193      141      3.4\n",
              "300   57       130   131      115      1.2\n",
              "301   57       130   236      174      0.0\n",
              "302   38       138   175      173      0.0\n",
              "\n",
              "[303 rows x 5 columns]"
            ]
          },
          "metadata": {
            "tags": []
          },
          "execution_count": 13
        },
        {
          "output_type": "stream",
          "text": [
            "time: 17.8 ms\n"
          ],
          "name": "stdout"
        }
      ]
    },
    {
      "cell_type": "code",
      "metadata": {
        "id": "upvSdoAzc7lj",
        "colab_type": "code",
        "outputId": "f0bb656f-d1fe-491b-c440-694f69ca2a2b",
        "colab": {
          "base_uri": "https://localhost:8080/",
          "height": 118
        }
      },
      "source": [
        "df.isna().sum()"
      ],
      "execution_count": 0,
      "outputs": [
        {
          "output_type": "execute_result",
          "data": {
            "text/plain": [
              "Age         0\n",
              "Trestbps    0\n",
              "Chol        0\n",
              "Thalach     0\n",
              "Oldpeak     0\n",
              "dtype: int64"
            ]
          },
          "metadata": {
            "tags": []
          },
          "execution_count": 14
        },
        {
          "output_type": "stream",
          "text": [
            "time: 4.92 ms\n"
          ],
          "name": "stdout"
        }
      ]
    },
    {
      "cell_type": "code",
      "metadata": {
        "id": "-VhUNZRCdAH5",
        "colab_type": "code",
        "outputId": "5a03d3d9-2e2e-428d-ed8d-c1bf00d0531c",
        "colab": {
          "base_uri": "https://localhost:8080/",
          "height": 34
        }
      },
      "source": [
        "if (df.isna().values.any()):\n",
        "  df.dropna()"
      ],
      "execution_count": 0,
      "outputs": [
        {
          "output_type": "stream",
          "text": [
            "time: 1.9 ms\n"
          ],
          "name": "stdout"
        }
      ]
    },
    {
      "cell_type": "code",
      "metadata": {
        "id": "BHcjv8hkBoKa",
        "colab_type": "code",
        "outputId": "f6039bd7-2f7d-420b-fb9b-ef855e272054",
        "colab": {
          "base_uri": "https://localhost:8080/",
          "height": 34
        }
      },
      "source": [
        "X.shape"
      ],
      "execution_count": 0,
      "outputs": [
        {
          "output_type": "execute_result",
          "data": {
            "text/plain": [
              "(303, 5)"
            ]
          },
          "metadata": {
            "tags": []
          },
          "execution_count": 16
        },
        {
          "output_type": "stream",
          "text": [
            "time: 2.92 ms\n"
          ],
          "name": "stdout"
        }
      ]
    },
    {
      "cell_type": "markdown",
      "metadata": {
        "id": "wDcH2nCIB-xi",
        "colab_type": "text"
      },
      "source": [
        "#KNN"
      ]
    },
    {
      "cell_type": "code",
      "metadata": {
        "id": "dV82Saw06BoQ",
        "colab_type": "code",
        "outputId": "95e476c4-8359-4ac4-9aa6-a50f1efa8326",
        "colab": {
          "base_uri": "https://localhost:8080/",
          "height": 67
        }
      },
      "source": [
        "#membuat NaN values ke dataset\n",
        "random.seed(0)\n",
        "np.random.seed(0)\n",
        "np.set_printoptions(suppress=True)\n",
        "\n",
        "idxs = numpy.random.choice(303, replace=False, size=5)\n",
        "j =  np.random.choice(range(2,5),5)\n",
        "X_nan = X.copy()\n",
        "print(idxs)\n",
        "print(j)"
      ],
      "execution_count": 0,
      "outputs": [
        {
          "output_type": "stream",
          "text": [
            "[225 152 228 201  52]\n",
            "[3 4 3 3 3]\n",
            "time: 4.38 ms\n"
          ],
          "name": "stdout"
        }
      ]
    },
    {
      "cell_type": "code",
      "metadata": {
        "id": "JcnJhE0E62ai",
        "colab_type": "code",
        "outputId": "deae01ec-ce11-4cae-b0cd-8190f01417de",
        "colab": {
          "base_uri": "https://localhost:8080/",
          "height": 34
        }
      },
      "source": [
        "X_nan[idxs, j] = np.nan"
      ],
      "execution_count": 0,
      "outputs": [
        {
          "output_type": "stream",
          "text": [
            "time: 962 µs\n"
          ],
          "name": "stdout"
        }
      ]
    },
    {
      "cell_type": "code",
      "metadata": {
        "id": "j0_K04gR6-kz",
        "colab_type": "code",
        "outputId": "5d17073d-326d-4623-b4c5-002a3c19039c",
        "colab": {
          "base_uri": "https://localhost:8080/",
          "height": 134
        }
      },
      "source": [
        "from sklearn.impute import KNNImputer\n",
        "\n",
        "imputer = KNNImputer(n_neighbors=5)\n",
        "df_filled = imputer.fit_transform(X_nan)\n",
        "df_filled"
      ],
      "execution_count": 0,
      "outputs": [
        {
          "output_type": "execute_result",
          "data": {
            "text/plain": [
              "array([[ 63. , 145. , 233. , 150. ,   2.3],\n",
              "       [ 67. , 160. , 286. , 108. ,   1.5],\n",
              "       [ 67. , 120. , 229. , 129. ,   2.6],\n",
              "       ...,\n",
              "       [ 57. , 130. , 131. , 115. ,   1.2],\n",
              "       [ 57. , 130. , 236. , 174. ,   0. ],\n",
              "       [ 38. , 138. , 175. , 173. ,   0. ]])"
            ]
          },
          "metadata": {
            "tags": []
          },
          "execution_count": 19
        },
        {
          "output_type": "stream",
          "text": [
            "time: 468 ms\n"
          ],
          "name": "stdout"
        }
      ]
    },
    {
      "cell_type": "code",
      "metadata": {
        "id": "aVOUBTif7X5s",
        "colab_type": "code",
        "outputId": "13f0c69f-56c2-47f3-f2c4-932d39bcac45",
        "colab": {
          "base_uri": "https://localhost:8080/",
          "height": 101
        }
      },
      "source": [
        "#check error\n",
        "import sklearn.metrics as metrics\n",
        "\n",
        "mae = metrics.mean_absolute_error(X, df_filled)\n",
        "mse = metrics.mean_squared_error(X, df_filled)\n",
        "rmse = np.sqrt(mse) # or mse**(0.5)\n",
        "\n",
        "print(\"Results of sklearn.metrics:\")\n",
        "print(\"MAE:\",mae)\n",
        "print(\"MSE:\", mse)\n",
        "print(\"RMSE:\", rmse)"
      ],
      "execution_count": 0,
      "outputs": [
        {
          "output_type": "stream",
          "text": [
            "Results of sklearn.metrics:\n",
            "MAE: 0.05500990099009899\n",
            "MSE: 1.7407918151815174\n",
            "RMSE: 1.3193906984595265\n",
            "time: 5.79 ms\n"
          ],
          "name": "stdout"
        }
      ]
    },
    {
      "cell_type": "markdown",
      "metadata": {
        "id": "1gAYxkkvCA99",
        "colab_type": "text"
      },
      "source": [
        "#Bayesian"
      ]
    },
    {
      "cell_type": "code",
      "metadata": {
        "id": "bUx5fRuUBf32",
        "colab_type": "code",
        "outputId": "9578ae5d-1615-4da6-9056-ca5c23ccc2cc",
        "colab": {
          "base_uri": "https://localhost:8080/",
          "height": 67
        }
      },
      "source": [
        "#membuat NaN values ke dataset\n",
        "random.seed(0)\n",
        "np.random.seed(0)\n",
        "np.set_printoptions(suppress=True)\n",
        "\n",
        "idxs = numpy.random.choice(303, replace=False, size=5)\n",
        "j =  np.random.choice(range(2,5),5)\n",
        "X_nan = X.copy()\n",
        "print(idxs)\n",
        "print(j)\n",
        "\n",
        "X_nan[idxs, j] = numpy.nan\n",
        "# Xtemp = X_nan[:500]"
      ],
      "execution_count": 0,
      "outputs": [
        {
          "output_type": "stream",
          "text": [
            "[225 152 228 201  52]\n",
            "[3 4 3 3 3]\n",
            "time: 6.38 ms\n"
          ],
          "name": "stdout"
        }
      ]
    },
    {
      "cell_type": "code",
      "metadata": {
        "id": "-q74iJIPsvVc",
        "colab_type": "code",
        "outputId": "a7be4b2c-a4d9-4756-d30f-3ebd1a6028e3",
        "colab": {
          "base_uri": "https://localhost:8080/",
          "height": 34
        }
      },
      "source": [
        "X_nan.shape"
      ],
      "execution_count": 0,
      "outputs": [
        {
          "output_type": "execute_result",
          "data": {
            "text/plain": [
              "(303, 5)"
            ]
          },
          "metadata": {
            "tags": []
          },
          "execution_count": 22
        },
        {
          "output_type": "stream",
          "text": [
            "time: 2.29 ms\n"
          ],
          "name": "stdout"
        }
      ]
    },
    {
      "cell_type": "code",
      "metadata": {
        "id": "7vMccIIz8UFd",
        "colab_type": "code",
        "outputId": "f5faeb3b-b206-4ca2-fe6f-940c3d2f03c8",
        "colab": {
          "base_uri": "https://localhost:8080/",
          "height": 34
        }
      },
      "source": [
        "model1 = BayesianNetwork.from_samples(X_nan, max_parents=5)"
      ],
      "execution_count": 0,
      "outputs": [
        {
          "output_type": "stream",
          "text": [
            "time: 6.39 s\n"
          ],
          "name": "stdout"
        }
      ]
    },
    {
      "cell_type": "code",
      "metadata": {
        "id": "YKMEyYAfKCFJ",
        "colab_type": "code",
        "outputId": "0f9e45bd-1473-4ad9-8c84-2273bbe6437d",
        "colab": {
          "base_uri": "https://localhost:8080/",
          "height": 1000
        }
      },
      "source": [
        "model1.predict_proba({})"
      ],
      "execution_count": 0,
      "outputs": [
        {
          "output_type": "execute_result",
          "data": {
            "text/plain": [
              "array([{\n",
              "    \"class\" :\"Distribution\",\n",
              "    \"dtype\" :\"numpy.float64\",\n",
              "    \"name\" :\"DiscreteDistribution\",\n",
              "    \"parameters\" :[\n",
              "        {\n",
              "            \"63.0\" :0.029702970297029667,\n",
              "            \"67.0\" :0.029702970297029667,\n",
              "            \"37.0\" :0.006600660066006766,\n",
              "            \"41.0\" :0.03300330033003294,\n",
              "            \"56.0\" :0.03630363036303621,\n",
              "            \"62.0\" :0.03630363036303621,\n",
              "            \"57.0\" :0.05610561056105584,\n",
              "            \"53.0\" :0.026402640264026396,\n",
              "            \"44.0\" :0.03630363036303621,\n",
              "            \"52.0\" :0.04290429042904275,\n",
              "            \"48.0\" :0.02310231023102312,\n",
              "            \"54.0\" :0.05280528052805257,\n",
              "            \"49.0\" :0.01650165016501658,\n",
              "            \"64.0\" :0.03300330033003294,\n",
              "            \"58.0\" :0.06270627062706238,\n",
              "            \"60.0\" :0.039603960396039486,\n",
              "            \"50.0\" :0.02310231023102312,\n",
              "            \"66.0\" :0.02310231023102312,\n",
              "            \"43.0\" :0.026402640264026396,\n",
              "            \"40.0\" :0.009900990099010036,\n",
              "            \"69.0\" :0.009900990099010036,\n",
              "            \"59.0\" :0.04620462046204602,\n",
              "            \"42.0\" :0.026402640264026396,\n",
              "            \"55.0\" :0.026402640264026396,\n",
              "            \"61.0\" :0.026402640264026396,\n",
              "            \"65.0\" :0.026402640264026396,\n",
              "            \"71.0\" :0.009900990099010036,\n",
              "            \"51.0\" :0.039603960396039486,\n",
              "            \"46.0\" :0.02310231023102312,\n",
              "            \"45.0\" :0.026402640264026396,\n",
              "            \"39.0\" :0.013201320132013309,\n",
              "            \"68.0\" :0.013201320132013309,\n",
              "            \"47.0\" :0.01650165016501658,\n",
              "            \"34.0\" :0.006600660066006766,\n",
              "            \"35.0\" :0.013201320132013309,\n",
              "            \"29.0\" :0.003300330033003494,\n",
              "            \"70.0\" :0.013201320132013309,\n",
              "            \"77.0\" :0.003300330033003494,\n",
              "            \"38.0\" :0.006600660066006766,\n",
              "            \"74.0\" :0.003300330033003494,\n",
              "            \"76.0\" :0.003300330033003494\n",
              "        }\n",
              "    ],\n",
              "    \"frozen\" :false\n",
              "},\n",
              "       {\n",
              "    \"class\" :\"Distribution\",\n",
              "    \"dtype\" :\"numpy.float64\",\n",
              "    \"name\" :\"DiscreteDistribution\",\n",
              "    \"parameters\" :[\n",
              "        {\n",
              "            \"145.0\" :0.016501650165016542,\n",
              "            \"160.0\" :0.03630363036303613,\n",
              "            \"120.0\" :0.12211221122112102,\n",
              "            \"130.0\" :0.11881188118811772,\n",
              "            \"140.0\" :0.10561056105610468,\n",
              "            \"172.0\" :0.003300330033003486,\n",
              "            \"150.0\" :0.056105610561055716,\n",
              "            \"110.0\" :0.06270627062706224,\n",
              "            \"132.0\" :0.02640264026402634,\n",
              "            \"117.0\" :0.003300330033003486,\n",
              "            \"135.0\" :0.01980198019801981,\n",
              "            \"112.0\" :0.0297029702970296,\n",
              "            \"105.0\" :0.009900990099010016,\n",
              "            \"124.0\" :0.01980198019801981,\n",
              "            \"125.0\" :0.03630363036303613,\n",
              "            \"142.0\" :0.009900990099010016,\n",
              "            \"128.0\" :0.039603960396039396,\n",
              "            \"170.0\" :0.013201320132013278,\n",
              "            \"155.0\" :0.003300330033003486,\n",
              "            \"104.0\" :0.003300330033003486,\n",
              "            \"180.0\" :0.009900990099010016,\n",
              "            \"138.0\" :0.039603960396039396,\n",
              "            \"108.0\" :0.01980198019801981,\n",
              "            \"134.0\" :0.016501650165016542,\n",
              "            \"122.0\" :0.013201320132013278,\n",
              "            \"115.0\" :0.009900990099010016,\n",
              "            \"118.0\" :0.02310231023102307,\n",
              "            \"100.0\" :0.013201320132013278,\n",
              "            \"200.0\" :0.003300330033003486,\n",
              "            \"94.0\" :0.00660066006600675,\n",
              "            \"165.0\" :0.003300330033003486,\n",
              "            \"102.0\" :0.00660066006600675,\n",
              "            \"152.0\" :0.016501650165016542,\n",
              "            \"101.0\" :0.003300330033003486,\n",
              "            \"126.0\" :0.009900990099010016,\n",
              "            \"174.0\" :0.003300330033003486,\n",
              "            \"148.0\" :0.00660066006600675,\n",
              "            \"178.0\" :0.00660066006600675,\n",
              "            \"158.0\" :0.003300330033003486,\n",
              "            \"192.0\" :0.003300330033003486,\n",
              "            \"129.0\" :0.003300330033003486,\n",
              "            \"144.0\" :0.00660066006600675,\n",
              "            \"123.0\" :0.003300330033003486,\n",
              "            \"136.0\" :0.009900990099010016,\n",
              "            \"146.0\" :0.00660066006600675,\n",
              "            \"106.0\" :0.003300330033003486,\n",
              "            \"156.0\" :0.003300330033003486,\n",
              "            \"154.0\" :0.003300330033003486,\n",
              "            \"114.0\" :0.003300330033003486,\n",
              "            \"164.0\" :0.003300330033003486\n",
              "        }\n",
              "    ],\n",
              "    \"frozen\" :false\n",
              "},\n",
              "       {\n",
              "    \"class\" :\"Distribution\",\n",
              "    \"dtype\" :\"numpy.float64\",\n",
              "    \"name\" :\"DiscreteDistribution\",\n",
              "    \"parameters\" :[\n",
              "        {\n",
              "            \"233.0\" :0.013201320132012985,\n",
              "            \"286.0\" :0.006600660066006603,\n",
              "            \"229.0\" :0.009900990099009794,\n",
              "            \"250.0\" :0.009900990099009794,\n",
              "            \"204.0\" :0.019801980198019365,\n",
              "            \"236.0\" :0.009900990099009794,\n",
              "            \"268.0\" :0.006600660066006603,\n",
              "            \"354.0\" :0.0033003300330034127,\n",
              "            \"254.0\" :0.016501650165016174,\n",
              "            \"203.0\" :0.009900990099009794,\n",
              "            \"192.0\" :0.006600660066006603,\n",
              "            \"294.0\" :0.006600660066006603,\n",
              "            \"256.0\" :0.009900990099009794,\n",
              "            \"263.0\" :0.009900990099009794,\n",
              "            \"199.0\" :0.009900990099009794,\n",
              "            \"168.0\" :0.0033003300330034127,\n",
              "            \"239.0\" :0.013201320132012985,\n",
              "            \"275.0\" :0.006600660066006603,\n",
              "            \"266.0\" :0.006600660066006603,\n",
              "            \"211.0\" :0.013201320132012985,\n",
              "            \"283.0\" :0.009900990099009794,\n",
              "            \"284.0\" :0.0033003300330034127,\n",
              "            \"224.0\" :0.0033003300330034127,\n",
              "            \"206.0\" :0.006600660066006603,\n",
              "            \"219.0\" :0.009900990099009794,\n",
              "            \"340.0\" :0.0033003300330034127,\n",
              "            \"226.0\" :0.013201320132012985,\n",
              "            \"247.0\" :0.006600660066006603,\n",
              "            \"167.0\" :0.0033003300330034127,\n",
              "            \"230.0\" :0.009900990099009794,\n",
              "            \"335.0\" :0.006600660066006603,\n",
              "            \"234.0\" :0.019801980198019365,\n",
              "            \"177.0\" :0.013201320132012985,\n",
              "            \"276.0\" :0.0033003300330034127,\n",
              "            \"353.0\" :0.0033003300330034127,\n",
              "            \"243.0\" :0.013201320132012985,\n",
              "            \"225.0\" :0.006600660066006603,\n",
              "            \"302.0\" :0.006600660066006603,\n",
              "            \"212.0\" :0.016501650165016174,\n",
              "            \"330.0\" :0.006600660066006603,\n",
              "            \"175.0\" :0.006600660066006603,\n",
              "            \"417.0\" :0.0033003300330034127,\n",
              "            \"197.0\" :0.019801980198019365,\n",
              "            \"198.0\" :0.006600660066006603,\n",
              "            \"290.0\" :0.0033003300330034127,\n",
              "            \"253.0\" :0.006600660066006603,\n",
              "            \"172.0\" :0.0033003300330034127,\n",
              "            \"273.0\" :0.006600660066006603,\n",
              "            \"213.0\" :0.006600660066006603,\n",
              "            \"305.0\" :0.006600660066006603,\n",
              "            \"216.0\" :0.006600660066006603,\n",
              "            \"304.0\" :0.006600660066006603,\n",
              "            \"188.0\" :0.006600660066006603,\n",
              "            \"282.0\" :0.013201320132012985,\n",
              "            \"185.0\" :0.0033003300330034127,\n",
              "            \"232.0\" :0.006600660066006603,\n",
              "            \"326.0\" :0.0033003300330034127,\n",
              "            \"231.0\" :0.009900990099009794,\n",
              "            \"269.0\" :0.016501650165016174,\n",
              "            \"267.0\" :0.006600660066006603,\n",
              "            \"248.0\" :0.006600660066006603,\n",
              "            \"360.0\" :0.0033003300330034127,\n",
              "            \"258.0\" :0.009900990099009794,\n",
              "            \"308.0\" :0.006600660066006603,\n",
              "            \"245.0\" :0.009900990099009794,\n",
              "            \"270.0\" :0.006600660066006603,\n",
              "            \"208.0\" :0.006600660066006603,\n",
              "            \"264.0\" :0.006600660066006603,\n",
              "            \"321.0\" :0.0033003300330034127,\n",
              "            \"274.0\" :0.009900990099009794,\n",
              "            \"325.0\" :0.006600660066006603,\n",
              "            \"235.0\" :0.006600660066006603,\n",
              "            \"257.0\" :0.0033003300330034127,\n",
              "            \"164.0\" :0.0033003300330034127,\n",
              "            \"141.0\" :0.0033003300330034127,\n",
              "            \"252.0\" :0.0033003300330034127,\n",
              "            \"255.0\" :0.006600660066006603,\n",
              "            \"201.0\" :0.009900990099009794,\n",
              "            \"222.0\" :0.006600660066006603,\n",
              "            \"260.0\" :0.006600660066006603,\n",
              "            \"182.0\" :0.0033003300330034127,\n",
              "            \"303.0\" :0.009900990099009794,\n",
              "            \"265.0\" :0.006600660066006603,\n",
              "            \"309.0\" :0.009900990099009794,\n",
              "            \"307.0\" :0.0033003300330034127,\n",
              "            \"249.0\" :0.009900990099009794,\n",
              "            \"186.0\" :0.0033003300330034127,\n",
              "            \"341.0\" :0.0033003300330034127,\n",
              "            \"183.0\" :0.0033003300330034127,\n",
              "            \"407.0\" :0.0033003300330034127,\n",
              "            \"217.0\" :0.0033003300330034127,\n",
              "            \"288.0\" :0.009900990099009794,\n",
              "            \"220.0\" :0.009900990099009794,\n",
              "            \"209.0\" :0.006600660066006603,\n",
              "            \"227.0\" :0.006600660066006603,\n",
              "            \"261.0\" :0.006600660066006603,\n",
              "            \"174.0\" :0.0033003300330034127,\n",
              "            \"281.0\" :0.0033003300330034127,\n",
              "            \"221.0\" :0.006600660066006603,\n",
              "            \"205.0\" :0.006600660066006603,\n",
              "            \"240.0\" :0.013201320132012985,\n",
              "            \"289.0\" :0.006600660066006603,\n",
              "            \"318.0\" :0.006600660066006603,\n",
              "            \"298.0\" :0.006600660066006603,\n",
              "            \"564.0\" :0.0033003300330034127,\n",
              "            \"246.0\" :0.009900990099009794,\n",
              "            \"322.0\" :0.0033003300330034127,\n",
              "            \"299.0\" :0.006600660066006603,\n",
              "            \"300.0\" :0.0033003300330034127,\n",
              "            \"293.0\" :0.0033003300330034127,\n",
              "            \"277.0\" :0.006600660066006603,\n",
              "            \"214.0\" :0.006600660066006603,\n",
              "            \"207.0\" :0.006600660066006603,\n",
              "            \"223.0\" :0.009900990099009794,\n",
              "            \"160.0\" :0.0033003300330034127,\n",
              "            \"394.0\" :0.0033003300330034127,\n",
              "            \"184.0\" :0.0033003300330034127,\n",
              "            \"315.0\" :0.006600660066006603,\n",
              "            \"409.0\" :0.0033003300330034127,\n",
              "            \"244.0\" :0.009900990099009794,\n",
              "            \"195.0\" :0.0033003300330034127,\n",
              "            \"196.0\" :0.006600660066006603,\n",
              "            \"126.0\" :0.0033003300330034127,\n",
              "            \"313.0\" :0.0033003300330034127,\n",
              "            \"259.0\" :0.0033003300330034127,\n",
              "            \"200.0\" :0.0033003300330034127,\n",
              "            \"262.0\" :0.0033003300330034127,\n",
              "            \"215.0\" :0.0033003300330034127,\n",
              "            \"228.0\" :0.006600660066006603,\n",
              "            \"193.0\" :0.006600660066006603,\n",
              "            \"271.0\" :0.006600660066006603,\n",
              "            \"210.0\" :0.0033003300330034127,\n",
              "            \"327.0\" :0.0033003300330034127,\n",
              "            \"149.0\" :0.006600660066006603,\n",
              "            \"295.0\" :0.006600660066006603,\n",
              "            \"306.0\" :0.0033003300330034127,\n",
              "            \"178.0\" :0.0033003300330034127,\n",
              "            \"237.0\" :0.0033003300330034127,\n",
              "            \"218.0\" :0.006600660066006603,\n",
              "            \"242.0\" :0.0033003300330034127,\n",
              "            \"319.0\" :0.0033003300330034127,\n",
              "            \"166.0\" :0.0033003300330034127,\n",
              "            \"180.0\" :0.0033003300330034127,\n",
              "            \"311.0\" :0.0033003300330034127,\n",
              "            \"278.0\" :0.0033003300330034127,\n",
              "            \"342.0\" :0.0033003300330034127,\n",
              "            \"169.0\" :0.0033003300330034127,\n",
              "            \"187.0\" :0.0033003300330034127,\n",
              "            \"157.0\" :0.0033003300330034127,\n",
              "            \"176.0\" :0.0033003300330034127,\n",
              "            \"241.0\" :0.0033003300330034127,\n",
              "            \"131.0\" :0.0033003300330034127\n",
              "        }\n",
              "    ],\n",
              "    \"frozen\" :false\n",
              "},\n",
              "       {\n",
              "    \"class\" :\"Distribution\",\n",
              "    \"dtype\" :\"numpy.float64\",\n",
              "    \"name\" :\"DiscreteDistribution\",\n",
              "    \"parameters\" :[\n",
              "        {\n",
              "            \"150.0\" :0.023411371237457925,\n",
              "            \"108.0\" :0.0033444816053513227,\n",
              "            \"129.0\" :0.0033444816053513227,\n",
              "            \"187.0\" :0.0033444816053513227,\n",
              "            \"172.0\" :0.023411371237457925,\n",
              "            \"178.0\" :0.016722408026755724,\n",
              "            \"160.0\" :0.03010033444816013,\n",
              "            \"163.0\" :0.03010033444816013,\n",
              "            \"147.0\" :0.016722408026755724,\n",
              "            \"155.0\" :0.013377926421404625,\n",
              "            \"148.0\" :0.010033444816053524,\n",
              "            \"153.0\" :0.006688963210702423,\n",
              "            \"142.0\" :0.020066889632106826,\n",
              "            \"173.0\" :0.023411371237457925,\n",
              "            \"162.0\" :0.03678929765886233,\n",
              "            \"174.0\" :0.016722408026755724,\n",
              "            \"168.0\" :0.016722408026755724,\n",
              "            \"139.0\" :0.006688963210702423,\n",
              "            \"171.0\" :0.013377926421404625,\n",
              "            \"144.0\" :0.023411371237457925,\n",
              "            \"132.0\" :0.023411371237457925,\n",
              "            \"158.0\" :0.020066889632106826,\n",
              "            \"114.0\" :0.010033444816053524,\n",
              "            \"151.0\" :0.013377926421404625,\n",
              "            \"161.0\" :0.020066889632106826,\n",
              "            \"179.0\" :0.016722408026755724,\n",
              "            \"120.0\" :0.010033444816053524,\n",
              "            \"112.0\" :0.006688963210702423,\n",
              "            \"137.0\" :0.0033444816053513227,\n",
              "            \"157.0\" :0.016722408026755724,\n",
              "            \"169.0\" :0.020066889632106826,\n",
              "            \"165.0\" :0.016722408026755724,\n",
              "            \"123.0\" :0.006688963210702423,\n",
              "            \"128.0\" :0.0033444816053513227,\n",
              "            \"152.0\" :0.026755852842809028,\n",
              "            \"140.0\" :0.020066889632106826,\n",
              "            \"188.0\" :0.0033444816053513227,\n",
              "            \"109.0\" :0.006688963210702423,\n",
              "            \"125.0\" :0.023411371237457925,\n",
              "            \"131.0\" :0.013377926421404625,\n",
              "            \"170.0\" :0.016722408026755724,\n",
              "            \"113.0\" :0.0033444816053513227,\n",
              "            \"99.0\" :0.0033444816053513227,\n",
              "            \"177.0\" :0.0033444816053513227,\n",
              "            \"141.0\" :0.010033444816053524,\n",
              "            \"180.0\" :0.006688963210702423,\n",
              "            \"111.0\" :0.010033444816053524,\n",
              "            \"143.0\" :0.023411371237457925,\n",
              "            \"182.0\" :0.016722408026755724,\n",
              "            \"156.0\" :0.020066889632106826,\n",
              "            \"115.0\" :0.010033444816053524,\n",
              "            \"149.0\" :0.006688963210702423,\n",
              "            \"145.0\" :0.013377926421404625,\n",
              "            \"146.0\" :0.013377926421404625,\n",
              "            \"175.0\" :0.010033444816053524,\n",
              "            \"186.0\" :0.006688963210702423,\n",
              "            \"185.0\" :0.0033444816053513227,\n",
              "            \"159.0\" :0.013377926421404625,\n",
              "            \"130.0\" :0.013377926421404625,\n",
              "            \"190.0\" :0.0033444816053513227,\n",
              "            \"136.0\" :0.006688963210702423,\n",
              "            \"97.0\" :0.0033444816053513227,\n",
              "            \"127.0\" :0.0033444816053513227,\n",
              "            \"154.0\" :0.013377926421404625,\n",
              "            \"133.0\" :0.006688963210702423,\n",
              "            \"126.0\" :0.013377926421404625,\n",
              "            \"202.0\" :0.0033444816053513227,\n",
              "            \"103.0\" :0.006688963210702423,\n",
              "            \"166.0\" :0.010033444816053524,\n",
              "            \"164.0\" :0.006688963210702423,\n",
              "            \"184.0\" :0.0033444816053513227,\n",
              "            \"124.0\" :0.0033444816053513227,\n",
              "            \"122.0\" :0.013377926421404625,\n",
              "            \"96.0\" :0.006688963210702423,\n",
              "            \"138.0\" :0.010033444816053524,\n",
              "            \"88.0\" :0.0033444816053513227,\n",
              "            \"105.0\" :0.010033444816053524,\n",
              "            \"194.0\" :0.0033444816053513227,\n",
              "            \"195.0\" :0.0033444816053513227,\n",
              "            \"106.0\" :0.0033444816053513227,\n",
              "            \"167.0\" :0.0033444816053513227,\n",
              "            \"95.0\" :0.0033444816053513227,\n",
              "            \"117.0\" :0.0033444816053513227,\n",
              "            \"121.0\" :0.0033444816053513227,\n",
              "            \"116.0\" :0.006688963210702423,\n",
              "            \"71.0\" :0.0033444816053513227,\n",
              "            \"118.0\" :0.0033444816053513227,\n",
              "            \"181.0\" :0.006688963210702423,\n",
              "            \"134.0\" :0.0033444816053513227,\n",
              "            \"90.0\" :0.0033444816053513227\n",
              "        }\n",
              "    ],\n",
              "    \"frozen\" :false\n",
              "},\n",
              "       {\n",
              "    \"class\" :\"Distribution\",\n",
              "    \"dtype\" :\"numpy.float64\",\n",
              "    \"name\" :\"DiscreteDistribution\",\n",
              "    \"parameters\" :[\n",
              "        {\n",
              "            \"2.3\" :0.006622516556291555,\n",
              "            \"1.5\" :0.016556291390728554,\n",
              "            \"2.6\" :0.01986754966887422,\n",
              "            \"3.5\" :0.0033112582781458883,\n",
              "            \"1.4\" :0.043046357615893885,\n",
              "            \"0.8\" :0.043046357615893885,\n",
              "            \"3.6\" :0.013245033112582887,\n",
              "            \"0.6\" :0.046357615894039556,\n",
              "            \"3.1\" :0.0033112582781458883,\n",
              "            \"0.4\" :0.02980132450331122,\n",
              "            \"1.3\" :0.0033112582781458883,\n",
              "            \"0.0\" :0.3278145695364212,\n",
              "            \"0.5\" :0.016556291390728554,\n",
              "            \"1.6\" :0.03311258278145689,\n",
              "            \"1.0\" :0.046357615894039556,\n",
              "            \"1.2\" :0.056291390728476554,\n",
              "            \"0.2\" :0.03973509933774822,\n",
              "            \"1.8\" :0.03311258278145689,\n",
              "            \"3.2\" :0.006622516556291555,\n",
              "            \"2.4\" :0.009933774834437224,\n",
              "            \"2.0\" :0.02980132450331122,\n",
              "            \"2.5\" :0.006622516556291555,\n",
              "            \"2.2\" :0.013245033112582887,\n",
              "            \"2.8\" :0.01986754966887422,\n",
              "            \"3.0\" :0.016556291390728554,\n",
              "            \"3.4\" :0.009933774834437224,\n",
              "            \"6.2\" :0.0033112582781458883,\n",
              "            \"4.0\" :0.009933774834437224,\n",
              "            \"5.6\" :0.0033112582781458883,\n",
              "            \"2.9\" :0.0033112582781458883,\n",
              "            \"0.1\" :0.02317880794701989,\n",
              "            \"2.1\" :0.0033112582781458883,\n",
              "            \"1.9\" :0.016556291390728554,\n",
              "            \"4.2\" :0.006622516556291555,\n",
              "            \"0.9\" :0.009933774834437224,\n",
              "            \"1.1\" :0.006622516556291555,\n",
              "            \"3.8\" :0.0033112582781458883,\n",
              "            \"0.7\" :0.0033112582781458883,\n",
              "            \"0.3\" :0.009933774834437224,\n",
              "            \"4.4\" :0.0033112582781458883\n",
              "        }\n",
              "    ],\n",
              "    \"frozen\" :false\n",
              "}], dtype=object)"
            ]
          },
          "metadata": {
            "tags": []
          },
          "execution_count": 24
        },
        {
          "output_type": "stream",
          "text": [
            "time: 12.6 ms\n"
          ],
          "name": "stdout"
        }
      ]
    },
    {
      "cell_type": "code",
      "metadata": {
        "id": "f5Ig5k7R91nH",
        "colab_type": "code",
        "outputId": "821526b5-01e3-4e68-b814-03fd57e02cf7",
        "colab": {
          "base_uri": "https://localhost:8080/",
          "height": 34
        }
      },
      "source": [
        "y_pred1 = model1.predict(X_nan)"
      ],
      "execution_count": 0,
      "outputs": [
        {
          "output_type": "stream",
          "text": [
            "time: 1.3 s\n"
          ],
          "name": "stdout"
        }
      ]
    },
    {
      "cell_type": "code",
      "metadata": {
        "id": "nRbZdUuAMaI-",
        "colab_type": "code",
        "outputId": "e469682c-7270-45eb-cc16-73161f545625",
        "colab": {
          "base_uri": "https://localhost:8080/",
          "height": 101
        }
      },
      "source": [
        "#check error\n",
        "import sklearn.metrics as metrics\n",
        "\n",
        "mae = metrics.mean_absolute_error(X, np.array(y_pred1))\n",
        "mse = metrics.mean_squared_error(X, np.array(y_pred1))\n",
        "rmse = np.sqrt(mse) # or mse**(0.5)\n",
        "\n",
        "print(\"Results of sklearn.metrics:\")\n",
        "print(\"MAE:\",mae)\n",
        "print(\"MSE:\", mse)\n",
        "print(\"RMSE:\", rmse)"
      ],
      "execution_count": 0,
      "outputs": [
        {
          "output_type": "stream",
          "text": [
            "Results of sklearn.metrics:\n",
            "MAE: 0.06772277227722771\n",
            "MSE: 2.6162112211221125\n",
            "RMSE: 1.6174706245005233\n",
            "time: 7.25 ms\n"
          ],
          "name": "stdout"
        }
      ]
    },
    {
      "cell_type": "markdown",
      "metadata": {
        "id": "FFSPduLm-hwH",
        "colab_type": "text"
      },
      "source": [
        "#Deterministic Regression"
      ]
    },
    {
      "cell_type": "code",
      "metadata": {
        "id": "6s7aGG80_Xys",
        "colab_type": "code",
        "outputId": "353dda71-d385-4d02-db43-69f9e06aa6d9",
        "colab": {
          "base_uri": "https://localhost:8080/",
          "height": 418
        }
      },
      "source": [
        "df2 = dataset[['Age', 'Trestbps', 'Chol', 'Thalach', 'Oldpeak']]\n",
        "X2 = df2.values\n",
        "df2"
      ],
      "execution_count": 0,
      "outputs": [
        {
          "output_type": "execute_result",
          "data": {
            "text/html": [
              "<div>\n",
              "<style scoped>\n",
              "    .dataframe tbody tr th:only-of-type {\n",
              "        vertical-align: middle;\n",
              "    }\n",
              "\n",
              "    .dataframe tbody tr th {\n",
              "        vertical-align: top;\n",
              "    }\n",
              "\n",
              "    .dataframe thead th {\n",
              "        text-align: right;\n",
              "    }\n",
              "</style>\n",
              "<table border=\"1\" class=\"dataframe\">\n",
              "  <thead>\n",
              "    <tr style=\"text-align: right;\">\n",
              "      <th></th>\n",
              "      <th>Age</th>\n",
              "      <th>Trestbps</th>\n",
              "      <th>Chol</th>\n",
              "      <th>Thalach</th>\n",
              "      <th>Oldpeak</th>\n",
              "    </tr>\n",
              "  </thead>\n",
              "  <tbody>\n",
              "    <tr>\n",
              "      <th>0</th>\n",
              "      <td>63</td>\n",
              "      <td>145</td>\n",
              "      <td>233</td>\n",
              "      <td>150</td>\n",
              "      <td>2.3</td>\n",
              "    </tr>\n",
              "    <tr>\n",
              "      <th>1</th>\n",
              "      <td>67</td>\n",
              "      <td>160</td>\n",
              "      <td>286</td>\n",
              "      <td>108</td>\n",
              "      <td>1.5</td>\n",
              "    </tr>\n",
              "    <tr>\n",
              "      <th>2</th>\n",
              "      <td>67</td>\n",
              "      <td>120</td>\n",
              "      <td>229</td>\n",
              "      <td>129</td>\n",
              "      <td>2.6</td>\n",
              "    </tr>\n",
              "    <tr>\n",
              "      <th>3</th>\n",
              "      <td>37</td>\n",
              "      <td>130</td>\n",
              "      <td>250</td>\n",
              "      <td>187</td>\n",
              "      <td>3.5</td>\n",
              "    </tr>\n",
              "    <tr>\n",
              "      <th>4</th>\n",
              "      <td>41</td>\n",
              "      <td>130</td>\n",
              "      <td>204</td>\n",
              "      <td>172</td>\n",
              "      <td>1.4</td>\n",
              "    </tr>\n",
              "    <tr>\n",
              "      <th>...</th>\n",
              "      <td>...</td>\n",
              "      <td>...</td>\n",
              "      <td>...</td>\n",
              "      <td>...</td>\n",
              "      <td>...</td>\n",
              "    </tr>\n",
              "    <tr>\n",
              "      <th>298</th>\n",
              "      <td>45</td>\n",
              "      <td>110</td>\n",
              "      <td>264</td>\n",
              "      <td>132</td>\n",
              "      <td>1.2</td>\n",
              "    </tr>\n",
              "    <tr>\n",
              "      <th>299</th>\n",
              "      <td>68</td>\n",
              "      <td>144</td>\n",
              "      <td>193</td>\n",
              "      <td>141</td>\n",
              "      <td>3.4</td>\n",
              "    </tr>\n",
              "    <tr>\n",
              "      <th>300</th>\n",
              "      <td>57</td>\n",
              "      <td>130</td>\n",
              "      <td>131</td>\n",
              "      <td>115</td>\n",
              "      <td>1.2</td>\n",
              "    </tr>\n",
              "    <tr>\n",
              "      <th>301</th>\n",
              "      <td>57</td>\n",
              "      <td>130</td>\n",
              "      <td>236</td>\n",
              "      <td>174</td>\n",
              "      <td>0.0</td>\n",
              "    </tr>\n",
              "    <tr>\n",
              "      <th>302</th>\n",
              "      <td>38</td>\n",
              "      <td>138</td>\n",
              "      <td>175</td>\n",
              "      <td>173</td>\n",
              "      <td>0.0</td>\n",
              "    </tr>\n",
              "  </tbody>\n",
              "</table>\n",
              "<p>303 rows × 5 columns</p>\n",
              "</div>"
            ],
            "text/plain": [
              "     Age  Trestbps  Chol  Thalach  Oldpeak\n",
              "0     63       145   233      150      2.3\n",
              "1     67       160   286      108      1.5\n",
              "2     67       120   229      129      2.6\n",
              "3     37       130   250      187      3.5\n",
              "4     41       130   204      172      1.4\n",
              "..   ...       ...   ...      ...      ...\n",
              "298   45       110   264      132      1.2\n",
              "299   68       144   193      141      3.4\n",
              "300   57       130   131      115      1.2\n",
              "301   57       130   236      174      0.0\n",
              "302   38       138   175      173      0.0\n",
              "\n",
              "[303 rows x 5 columns]"
            ]
          },
          "metadata": {
            "tags": []
          },
          "execution_count": 27
        },
        {
          "output_type": "stream",
          "text": [
            "time: 21.6 ms\n"
          ],
          "name": "stdout"
        }
      ]
    },
    {
      "cell_type": "code",
      "metadata": {
        "id": "7J2P-n5_McLf",
        "colab_type": "code",
        "outputId": "8fa0552a-2a72-4bb5-dda2-100a81db1d6f",
        "colab": {
          "base_uri": "https://localhost:8080/",
          "height": 452
        }
      },
      "source": [
        "#membuat NaN values ke dataset\n",
        "random.seed(0)\n",
        "np.random.seed(0)\n",
        "np.set_printoptions(suppress=True)\n",
        "\n",
        "idxs = np.random.choice(303, replace=False, size=5)\n",
        "j =  np.random.choice(range(2,5),5)\n",
        "X_nan = X2.copy()\n",
        "print(idxs)\n",
        "print(j)\n",
        "X_nan[idxs, j] = numpy.nan\n",
        "df_nan = pd.DataFrame(X_nan, columns=['Age', 'Trestbps', 'Chol', 'Thalach', 'Oldpeak'])\n",
        "df_nan"
      ],
      "execution_count": 0,
      "outputs": [
        {
          "output_type": "stream",
          "text": [
            "[225 152 228 201  52]\n",
            "[3 4 3 3 3]\n"
          ],
          "name": "stdout"
        },
        {
          "output_type": "execute_result",
          "data": {
            "text/html": [
              "<div>\n",
              "<style scoped>\n",
              "    .dataframe tbody tr th:only-of-type {\n",
              "        vertical-align: middle;\n",
              "    }\n",
              "\n",
              "    .dataframe tbody tr th {\n",
              "        vertical-align: top;\n",
              "    }\n",
              "\n",
              "    .dataframe thead th {\n",
              "        text-align: right;\n",
              "    }\n",
              "</style>\n",
              "<table border=\"1\" class=\"dataframe\">\n",
              "  <thead>\n",
              "    <tr style=\"text-align: right;\">\n",
              "      <th></th>\n",
              "      <th>Age</th>\n",
              "      <th>Trestbps</th>\n",
              "      <th>Chol</th>\n",
              "      <th>Thalach</th>\n",
              "      <th>Oldpeak</th>\n",
              "    </tr>\n",
              "  </thead>\n",
              "  <tbody>\n",
              "    <tr>\n",
              "      <th>0</th>\n",
              "      <td>63.0</td>\n",
              "      <td>145.0</td>\n",
              "      <td>233.0</td>\n",
              "      <td>150.0</td>\n",
              "      <td>2.3</td>\n",
              "    </tr>\n",
              "    <tr>\n",
              "      <th>1</th>\n",
              "      <td>67.0</td>\n",
              "      <td>160.0</td>\n",
              "      <td>286.0</td>\n",
              "      <td>108.0</td>\n",
              "      <td>1.5</td>\n",
              "    </tr>\n",
              "    <tr>\n",
              "      <th>2</th>\n",
              "      <td>67.0</td>\n",
              "      <td>120.0</td>\n",
              "      <td>229.0</td>\n",
              "      <td>129.0</td>\n",
              "      <td>2.6</td>\n",
              "    </tr>\n",
              "    <tr>\n",
              "      <th>3</th>\n",
              "      <td>37.0</td>\n",
              "      <td>130.0</td>\n",
              "      <td>250.0</td>\n",
              "      <td>187.0</td>\n",
              "      <td>3.5</td>\n",
              "    </tr>\n",
              "    <tr>\n",
              "      <th>4</th>\n",
              "      <td>41.0</td>\n",
              "      <td>130.0</td>\n",
              "      <td>204.0</td>\n",
              "      <td>172.0</td>\n",
              "      <td>1.4</td>\n",
              "    </tr>\n",
              "    <tr>\n",
              "      <th>...</th>\n",
              "      <td>...</td>\n",
              "      <td>...</td>\n",
              "      <td>...</td>\n",
              "      <td>...</td>\n",
              "      <td>...</td>\n",
              "    </tr>\n",
              "    <tr>\n",
              "      <th>298</th>\n",
              "      <td>45.0</td>\n",
              "      <td>110.0</td>\n",
              "      <td>264.0</td>\n",
              "      <td>132.0</td>\n",
              "      <td>1.2</td>\n",
              "    </tr>\n",
              "    <tr>\n",
              "      <th>299</th>\n",
              "      <td>68.0</td>\n",
              "      <td>144.0</td>\n",
              "      <td>193.0</td>\n",
              "      <td>141.0</td>\n",
              "      <td>3.4</td>\n",
              "    </tr>\n",
              "    <tr>\n",
              "      <th>300</th>\n",
              "      <td>57.0</td>\n",
              "      <td>130.0</td>\n",
              "      <td>131.0</td>\n",
              "      <td>115.0</td>\n",
              "      <td>1.2</td>\n",
              "    </tr>\n",
              "    <tr>\n",
              "      <th>301</th>\n",
              "      <td>57.0</td>\n",
              "      <td>130.0</td>\n",
              "      <td>236.0</td>\n",
              "      <td>174.0</td>\n",
              "      <td>0.0</td>\n",
              "    </tr>\n",
              "    <tr>\n",
              "      <th>302</th>\n",
              "      <td>38.0</td>\n",
              "      <td>138.0</td>\n",
              "      <td>175.0</td>\n",
              "      <td>173.0</td>\n",
              "      <td>0.0</td>\n",
              "    </tr>\n",
              "  </tbody>\n",
              "</table>\n",
              "<p>303 rows × 5 columns</p>\n",
              "</div>"
            ],
            "text/plain": [
              "      Age  Trestbps   Chol  Thalach  Oldpeak\n",
              "0    63.0     145.0  233.0    150.0      2.3\n",
              "1    67.0     160.0  286.0    108.0      1.5\n",
              "2    67.0     120.0  229.0    129.0      2.6\n",
              "3    37.0     130.0  250.0    187.0      3.5\n",
              "4    41.0     130.0  204.0    172.0      1.4\n",
              "..    ...       ...    ...      ...      ...\n",
              "298  45.0     110.0  264.0    132.0      1.2\n",
              "299  68.0     144.0  193.0    141.0      3.4\n",
              "300  57.0     130.0  131.0    115.0      1.2\n",
              "301  57.0     130.0  236.0    174.0      0.0\n",
              "302  38.0     138.0  175.0    173.0      0.0\n",
              "\n",
              "[303 rows x 5 columns]"
            ]
          },
          "metadata": {
            "tags": []
          },
          "execution_count": 28
        },
        {
          "output_type": "stream",
          "text": [
            "time: 26.9 ms\n"
          ],
          "name": "stdout"
        }
      ]
    },
    {
      "cell_type": "code",
      "metadata": {
        "id": "QQyDO68n_MoE",
        "colab_type": "code",
        "outputId": "77c7c044-e0e8-48ef-a048-e7ec336ddaab",
        "colab": {
          "base_uri": "https://localhost:8080/",
          "height": 118
        }
      },
      "source": [
        "df_nan.isna().sum()"
      ],
      "execution_count": 0,
      "outputs": [
        {
          "output_type": "execute_result",
          "data": {
            "text/plain": [
              "Age         0\n",
              "Trestbps    0\n",
              "Chol        0\n",
              "Thalach     4\n",
              "Oldpeak     1\n",
              "dtype: int64"
            ]
          },
          "metadata": {
            "tags": []
          },
          "execution_count": 29
        },
        {
          "output_type": "stream",
          "text": [
            "time: 5.74 ms\n"
          ],
          "name": "stdout"
        }
      ]
    },
    {
      "cell_type": "code",
      "metadata": {
        "id": "tzv-gigF_QMp",
        "colab_type": "code",
        "outputId": "eb51664c-a7bf-45bf-cb4f-d978a04932fa",
        "colab": {
          "base_uri": "https://localhost:8080/",
          "height": 34
        }
      },
      "source": [
        "missing_columns = ['Thalach', 'Oldpeak']\n",
        "deter_data = pd.DataFrame(columns = [\"Det\" + name for name in missing_columns])\n",
        "from sklearn.linear_model import LinearRegression\n",
        "for feature in missing_columns:\n",
        "  # print(feature)\n",
        "  deter_data[\"Det\" + feature] = df_nan[feature]\n",
        "  parameters = list(set(df_nan.columns) - set(missing_columns) - {feature})\n",
        "\n",
        "  # #Create a Linear Regression model to estimate the missing data\n",
        "  model = LinearRegression()\n",
        "  model.fit(X = df2[parameters], y = df2[feature])\n",
        "\n",
        "  #observe that I preserve the index of the missing data from the original dataframe\n",
        "  deter_data.loc[df_nan[feature].isna(), \"Det\" + feature] = model.predict(df_nan[parameters])[df_nan[feature].isna()]"
      ],
      "execution_count": 0,
      "outputs": [
        {
          "output_type": "stream",
          "text": [
            "time: 53.9 ms\n"
          ],
          "name": "stdout"
        }
      ]
    },
    {
      "cell_type": "code",
      "metadata": {
        "id": "QvsmLjZEGpvE",
        "colab_type": "code",
        "outputId": "c63cbfc8-0aa8-42c4-8db4-69c0475c716a",
        "colab": {
          "base_uri": "https://localhost:8080/",
          "height": 418
        }
      },
      "source": [
        "deter_data"
      ],
      "execution_count": 0,
      "outputs": [
        {
          "output_type": "execute_result",
          "data": {
            "text/html": [
              "<div>\n",
              "<style scoped>\n",
              "    .dataframe tbody tr th:only-of-type {\n",
              "        vertical-align: middle;\n",
              "    }\n",
              "\n",
              "    .dataframe tbody tr th {\n",
              "        vertical-align: top;\n",
              "    }\n",
              "\n",
              "    .dataframe thead th {\n",
              "        text-align: right;\n",
              "    }\n",
              "</style>\n",
              "<table border=\"1\" class=\"dataframe\">\n",
              "  <thead>\n",
              "    <tr style=\"text-align: right;\">\n",
              "      <th></th>\n",
              "      <th>DetThalach</th>\n",
              "      <th>DetOldpeak</th>\n",
              "    </tr>\n",
              "  </thead>\n",
              "  <tbody>\n",
              "    <tr>\n",
              "      <th>0</th>\n",
              "      <td>150.0</td>\n",
              "      <td>2.3</td>\n",
              "    </tr>\n",
              "    <tr>\n",
              "      <th>1</th>\n",
              "      <td>108.0</td>\n",
              "      <td>1.5</td>\n",
              "    </tr>\n",
              "    <tr>\n",
              "      <th>2</th>\n",
              "      <td>129.0</td>\n",
              "      <td>2.6</td>\n",
              "    </tr>\n",
              "    <tr>\n",
              "      <th>3</th>\n",
              "      <td>187.0</td>\n",
              "      <td>3.5</td>\n",
              "    </tr>\n",
              "    <tr>\n",
              "      <th>4</th>\n",
              "      <td>172.0</td>\n",
              "      <td>1.4</td>\n",
              "    </tr>\n",
              "    <tr>\n",
              "      <th>...</th>\n",
              "      <td>...</td>\n",
              "      <td>...</td>\n",
              "    </tr>\n",
              "    <tr>\n",
              "      <th>298</th>\n",
              "      <td>132.0</td>\n",
              "      <td>1.2</td>\n",
              "    </tr>\n",
              "    <tr>\n",
              "      <th>299</th>\n",
              "      <td>141.0</td>\n",
              "      <td>3.4</td>\n",
              "    </tr>\n",
              "    <tr>\n",
              "      <th>300</th>\n",
              "      <td>115.0</td>\n",
              "      <td>1.2</td>\n",
              "    </tr>\n",
              "    <tr>\n",
              "      <th>301</th>\n",
              "      <td>174.0</td>\n",
              "      <td>0.0</td>\n",
              "    </tr>\n",
              "    <tr>\n",
              "      <th>302</th>\n",
              "      <td>173.0</td>\n",
              "      <td>0.0</td>\n",
              "    </tr>\n",
              "  </tbody>\n",
              "</table>\n",
              "<p>303 rows × 2 columns</p>\n",
              "</div>"
            ],
            "text/plain": [
              "     DetThalach  DetOldpeak\n",
              "0         150.0         2.3\n",
              "1         108.0         1.5\n",
              "2         129.0         2.6\n",
              "3         187.0         3.5\n",
              "4         172.0         1.4\n",
              "..          ...         ...\n",
              "298       132.0         1.2\n",
              "299       141.0         3.4\n",
              "300       115.0         1.2\n",
              "301       174.0         0.0\n",
              "302       173.0         0.0\n",
              "\n",
              "[303 rows x 2 columns]"
            ]
          },
          "metadata": {
            "tags": []
          },
          "execution_count": 31
        },
        {
          "output_type": "stream",
          "text": [
            "time: 16.1 ms\n"
          ],
          "name": "stdout"
        }
      ]
    },
    {
      "cell_type": "code",
      "metadata": {
        "id": "K4VeD-jeAoeH",
        "colab_type": "code",
        "outputId": "b9c926ec-31dd-414d-b062-2d720fe2a72d",
        "colab": {
          "base_uri": "https://localhost:8080/",
          "height": 418
        }
      },
      "source": [
        "non_missing_columns = ['Age', 'Trestbps', 'Chol', 'Thalach', 'Oldpeak']\n",
        "data_non_nan = pd.DataFrame(columns = [\"Det\" + name for name in non_missing_columns])\n",
        "\n",
        "for feature in non_missing_columns:\n",
        "  data_non_nan[\"Det\" + feature] = df2[feature]\n",
        "\n",
        "for feature in missing_columns:\n",
        "  data_non_nan[\"Det\" + feature] = deter_data[\"Det\" + feature]\n",
        "data_non_nan"
      ],
      "execution_count": 0,
      "outputs": [
        {
          "output_type": "execute_result",
          "data": {
            "text/html": [
              "<div>\n",
              "<style scoped>\n",
              "    .dataframe tbody tr th:only-of-type {\n",
              "        vertical-align: middle;\n",
              "    }\n",
              "\n",
              "    .dataframe tbody tr th {\n",
              "        vertical-align: top;\n",
              "    }\n",
              "\n",
              "    .dataframe thead th {\n",
              "        text-align: right;\n",
              "    }\n",
              "</style>\n",
              "<table border=\"1\" class=\"dataframe\">\n",
              "  <thead>\n",
              "    <tr style=\"text-align: right;\">\n",
              "      <th></th>\n",
              "      <th>DetAge</th>\n",
              "      <th>DetTrestbps</th>\n",
              "      <th>DetChol</th>\n",
              "      <th>DetThalach</th>\n",
              "      <th>DetOldpeak</th>\n",
              "    </tr>\n",
              "  </thead>\n",
              "  <tbody>\n",
              "    <tr>\n",
              "      <th>0</th>\n",
              "      <td>63</td>\n",
              "      <td>145</td>\n",
              "      <td>233</td>\n",
              "      <td>150.0</td>\n",
              "      <td>2.3</td>\n",
              "    </tr>\n",
              "    <tr>\n",
              "      <th>1</th>\n",
              "      <td>67</td>\n",
              "      <td>160</td>\n",
              "      <td>286</td>\n",
              "      <td>108.0</td>\n",
              "      <td>1.5</td>\n",
              "    </tr>\n",
              "    <tr>\n",
              "      <th>2</th>\n",
              "      <td>67</td>\n",
              "      <td>120</td>\n",
              "      <td>229</td>\n",
              "      <td>129.0</td>\n",
              "      <td>2.6</td>\n",
              "    </tr>\n",
              "    <tr>\n",
              "      <th>3</th>\n",
              "      <td>37</td>\n",
              "      <td>130</td>\n",
              "      <td>250</td>\n",
              "      <td>187.0</td>\n",
              "      <td>3.5</td>\n",
              "    </tr>\n",
              "    <tr>\n",
              "      <th>4</th>\n",
              "      <td>41</td>\n",
              "      <td>130</td>\n",
              "      <td>204</td>\n",
              "      <td>172.0</td>\n",
              "      <td>1.4</td>\n",
              "    </tr>\n",
              "    <tr>\n",
              "      <th>...</th>\n",
              "      <td>...</td>\n",
              "      <td>...</td>\n",
              "      <td>...</td>\n",
              "      <td>...</td>\n",
              "      <td>...</td>\n",
              "    </tr>\n",
              "    <tr>\n",
              "      <th>298</th>\n",
              "      <td>45</td>\n",
              "      <td>110</td>\n",
              "      <td>264</td>\n",
              "      <td>132.0</td>\n",
              "      <td>1.2</td>\n",
              "    </tr>\n",
              "    <tr>\n",
              "      <th>299</th>\n",
              "      <td>68</td>\n",
              "      <td>144</td>\n",
              "      <td>193</td>\n",
              "      <td>141.0</td>\n",
              "      <td>3.4</td>\n",
              "    </tr>\n",
              "    <tr>\n",
              "      <th>300</th>\n",
              "      <td>57</td>\n",
              "      <td>130</td>\n",
              "      <td>131</td>\n",
              "      <td>115.0</td>\n",
              "      <td>1.2</td>\n",
              "    </tr>\n",
              "    <tr>\n",
              "      <th>301</th>\n",
              "      <td>57</td>\n",
              "      <td>130</td>\n",
              "      <td>236</td>\n",
              "      <td>174.0</td>\n",
              "      <td>0.0</td>\n",
              "    </tr>\n",
              "    <tr>\n",
              "      <th>302</th>\n",
              "      <td>38</td>\n",
              "      <td>138</td>\n",
              "      <td>175</td>\n",
              "      <td>173.0</td>\n",
              "      <td>0.0</td>\n",
              "    </tr>\n",
              "  </tbody>\n",
              "</table>\n",
              "<p>303 rows × 5 columns</p>\n",
              "</div>"
            ],
            "text/plain": [
              "     DetAge  DetTrestbps  DetChol  DetThalach  DetOldpeak\n",
              "0        63          145      233       150.0         2.3\n",
              "1        67          160      286       108.0         1.5\n",
              "2        67          120      229       129.0         2.6\n",
              "3        37          130      250       187.0         3.5\n",
              "4        41          130      204       172.0         1.4\n",
              "..      ...          ...      ...         ...         ...\n",
              "298      45          110      264       132.0         1.2\n",
              "299      68          144      193       141.0         3.4\n",
              "300      57          130      131       115.0         1.2\n",
              "301      57          130      236       174.0         0.0\n",
              "302      38          138      175       173.0         0.0\n",
              "\n",
              "[303 rows x 5 columns]"
            ]
          },
          "metadata": {
            "tags": []
          },
          "execution_count": 32
        },
        {
          "output_type": "stream",
          "text": [
            "time: 34.1 ms\n"
          ],
          "name": "stdout"
        }
      ]
    },
    {
      "cell_type": "code",
      "metadata": {
        "id": "SWNatZQQFH5u",
        "colab_type": "code",
        "outputId": "fd6ab496-3724-4e1a-8ca3-5c5a32fb027e",
        "colab": {
          "base_uri": "https://localhost:8080/",
          "height": 101
        }
      },
      "source": [
        "#check error\n",
        "import sklearn.metrics as metrics\n",
        "\n",
        "mae = metrics.mean_absolute_error(X, np.array(data_non_nan))\n",
        "mse = metrics.mean_squared_error(X, np.array(data_non_nan))\n",
        "rmse = np.sqrt(mse) # or mse**(0.5)\n",
        "\n",
        "print(\"Results of sklearn.metrics:\")\n",
        "print(\"MAE:\",mae)\n",
        "print(\"MSE:\", mse)\n",
        "print(\"RMSE:\", rmse)"
      ],
      "execution_count": 0,
      "outputs": [
        {
          "output_type": "stream",
          "text": [
            "Results of sklearn.metrics:\n",
            "MAE: 0.05119646234924711\n",
            "MSE: 1.413132533551361\n",
            "RMSE: 1.1887525114805693\n",
            "time: 6.39 ms\n"
          ],
          "name": "stdout"
        }
      ]
    },
    {
      "cell_type": "markdown",
      "metadata": {
        "id": "9_Yn8MyrRiiy",
        "colab_type": "text"
      },
      "source": [
        "#Summary"
      ]
    },
    {
      "cell_type": "markdown",
      "metadata": {
        "id": "IQQ6mhFPRnUO",
        "colab_type": "text"
      },
      "source": [
        "##Heart Disease"
      ]
    },
    {
      "cell_type": "markdown",
      "metadata": {
        "id": "M2KoXyJXRqBs",
        "colab_type": "text"
      },
      "source": [
        "###KNN\n"
      ]
    },
    {
      "cell_type": "markdown",
      "metadata": {
        "id": "JXVy057CR5J9",
        "colab_type": "text"
      },
      "source": [
        "####Results of sklearn.metrics:\n",
        "####MAE: 0.05500990099009899\n",
        "####MSE: 1.7407918151815174\n",
        "####RMSE: 1.3193906984595265"
      ]
    },
    {
      "cell_type": "markdown",
      "metadata": {
        "id": "G4XpiFo3R7dn",
        "colab_type": "text"
      },
      "source": [
        "###Bayesian Network"
      ]
    },
    {
      "cell_type": "markdown",
      "metadata": {
        "id": "RTK2Pla6SMcW",
        "colab_type": "text"
      },
      "source": [
        "####Results of sklearn.metrics:\n",
        "####MAE: 0.06772277227722771\n",
        "####MSE: 2.6162112211221125\n",
        "####RMSE: 1.6174706245005233"
      ]
    },
    {
      "cell_type": "markdown",
      "metadata": {
        "id": "eyAZXTq-SAnM",
        "colab_type": "text"
      },
      "source": [
        "###Deterministic Regression"
      ]
    },
    {
      "cell_type": "markdown",
      "metadata": {
        "id": "xJeHZ_uLSG9V",
        "colab_type": "text"
      },
      "source": [
        "####Results of sklearn.metrics:\n",
        "####MAE: 0.05119646234924711\n",
        "####MSE: 1.413132533551361\n",
        "####RMSE: 1.1887525114805693"
      ]
    },
    {
      "cell_type": "code",
      "metadata": {
        "id": "15YO3AxPR_I8",
        "colab_type": "code",
        "colab": {}
      },
      "source": [
        ""
      ],
      "execution_count": 0,
      "outputs": []
    }
  ]
}